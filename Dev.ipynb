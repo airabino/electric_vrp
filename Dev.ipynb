{
 "cells": [
  {
   "cell_type": "code",
   "execution_count": 1,
   "id": "8d98008c-3c91-4613-8379-0ff15511b872",
   "metadata": {
    "tags": []
   },
   "outputs": [],
   "source": [
    "import warnings\n",
    "warnings.filterwarnings(\"ignore\")\n",
    "\n",
    "import os\n",
    "import time\n",
    "import numpy as np\n",
    "import pandas as pd\n",
    "import geopandas as gpd\n",
    "import pickle as pkl\n",
    "import matplotlib.pyplot as plt\n",
    "\n",
    "import src\n",
    "from src.reload import deep_reload"
   ]
  },
  {
   "cell_type": "code",
   "execution_count": 2,
   "id": "496fd2ed-64e7-4db5-bafe-bd9d02d9fe11",
   "metadata": {
    "tags": []
   },
   "outputs": [],
   "source": [
    "'''\n",
    "Loading in the charger rawdata\n",
    "'''\n",
    "deep_reload(src)\n",
    "\n",
    "files=[\n",
    "    'UCDavis_L2_Weighted_Sample.csv',\n",
    "    'UCDavis_DCFC_Weighted_Sample.csv',\n",
    "    'Depots.csv',\n",
    "]\n",
    "\n",
    "df=src.store.Read(files)"
   ]
  },
  {
   "cell_type": "code",
   "execution_count": 3,
   "id": "0395d602-f979-491c-8002-413818ac0bb9",
   "metadata": {
    "tags": []
   },
   "outputs": [],
   "source": [
    "attributes={'County':[\n",
    "    'Sacremento',\n",
    "    'San Joaquin',\n",
    "    'Amador',\n",
    "    'Yolo',\n",
    "    'Solano',\n",
    "    'El Dorado',\n",
    "    'Contra Costa',\n",
    "    'Sutter',\n",
    "    'Pacer',\n",
    "]}\n",
    "\n",
    "df = src.store.Keep(df,attributes)"
   ]
  },
  {
   "cell_type": "code",
   "execution_count": 4,
   "id": "6cb794f1-b05d-4dd7-9c84-d26e39de98e6",
   "metadata": {
    "tags": []
   },
   "outputs": [],
   "source": [
    "'''\n",
    "Parsing the charger data\n",
    "\n",
    "Creates the charger objects that serve as vertices of the EVSE network\n",
    "'''\n",
    "deep_reload(src)\n",
    "\n",
    "vertices=src.store.Parse(df)"
   ]
  },
  {
   "cell_type": "code",
   "execution_count": 5,
   "id": "83536c6f-7038-40ed-85c2-5e1f44d9e871",
   "metadata": {
    "tags": []
   },
   "outputs": [],
   "source": [
    "'''\n",
    "Writing the charger data\n",
    "\n",
    "Writes the charger objects to .json\n",
    "'''\n",
    "deep_reload(src)\n",
    "\n",
    "src.store.Write(vertices)"
   ]
  },
  {
   "cell_type": "code",
   "execution_count": 6,
   "id": "e37e6537-cb48-4787-a222-1c83ae39b88b",
   "metadata": {
    "tags": []
   },
   "outputs": [],
   "source": [
    "'''\n",
    "Loading chargers from JSON\n",
    "'''\n",
    "deep_reload(src)\n",
    "\n",
    "vertices=src.store.Load()"
   ]
  },
  {
   "cell_type": "code",
   "execution_count": 29,
   "id": "410e1c66-9670-49db-92b8-af18b7138008",
   "metadata": {
    "tags": []
   },
   "outputs": [],
   "source": [
    "'''\n",
    "Loading in the RoadMap graph\n",
    "'''\n",
    "deep_reload(src)\n",
    "\n",
    "road_map,gdf_roads=src.network.RoadMap_From_Pickle()"
   ]
  },
  {
   "cell_type": "code",
   "execution_count": 32,
   "id": "4753a1d3-dbee-46b6-bfa3-d1014185d1a4",
   "metadata": {
    "tags": []
   },
   "outputs": [
    {
     "name": "stdout",
     "output_type": "stream",
     "text": [
      "\u001b[32m Progress [------------------->] (27/27) 103%, 4.21 it/s, 6.66 seconds elapsed, -0.24 seconds remaining \u001b[0m         \n",
      "\n"
     ]
    }
   ],
   "source": [
    "'''\n",
    "Performing path computation\n",
    "'''\n",
    "deep_reload(src)\n",
    "\n",
    "vertices_with_adjacency=src.network.Add_Locations(\n",
    "    road_map,\n",
    "    vertices,\n",
    "    cutoff=300e3,\n",
    "    fields=['time','length']\n",
    ")"
   ]
  },
  {
   "cell_type": "code",
   "execution_count": 57,
   "id": "4422abf7-1804-4aed-9ffd-cb48a81b74bc",
   "metadata": {
    "tags": []
   },
   "outputs": [],
   "source": [
    "'''\n",
    "Writing the charger data\n",
    "\n",
    "Writes the charger objects to .json\n",
    "'''\n",
    "deep_reload(src)\n",
    "\n",
    "src.store.Write(chargers_full,filename='Data/GeneratedData/vertices.json')"
   ]
  }
 ],
 "metadata": {
  "kernelspec": {
   "display_name": "Python 3 (ipykernel)",
   "language": "python",
   "name": "python3"
  },
  "language_info": {
   "codemirror_mode": {
    "name": "ipython",
    "version": 3
   },
   "file_extension": ".py",
   "mimetype": "text/x-python",
   "name": "python",
   "nbconvert_exporter": "python",
   "pygments_lexer": "ipython3",
   "version": "3.11.5"
  }
 },
 "nbformat": 4,
 "nbformat_minor": 5
}
