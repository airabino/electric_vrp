{
 "cells": [
  {
   "cell_type": "code",
   "execution_count": 1,
   "id": "0f130017-3e3e-4ae5-9797-d92012861eb0",
   "metadata": {
    "tags": []
   },
   "outputs": [],
   "source": [
    "import warnings\n",
    "warnings.filterwarnings(\"ignore\")\n",
    "\n",
    "import os\n",
    "import time\n",
    "import json\n",
    "import numpy as np\n",
    "import pandas as pd\n",
    "import geopandas as gpd\n",
    "import pickle as pkl\n",
    "import networkx as nx\n",
    "import matplotlib.pyplot as plt\n",
    "\n",
    "import src\n",
    "from src.reload import deep_reload"
   ]
  },
  {
   "cell_type": "code",
   "execution_count": 3,
   "id": "382641e3-deea-48fb-9a10-fe8cbdb36c29",
   "metadata": {},
   "outputs": [],
   "source": [
    "df_ac = pd.read_csv('CEC/ACL2_Weighted_Sample.csv')\n",
    "df_dc = pd.read_csv('CEC/DCL2_Weighted_Sample.csv')"
   ]
  },
  {
   "cell_type": "code",
   "execution_count": 4,
   "id": "353141a3-2377-418a-bc44-6ebb16904208",
   "metadata": {},
   "outputs": [
    {
     "data": {
      "text/plain": [
       "array(['ObjectId2', 'Fuel Type Code', 'Station Name', 'Street Address',\n",
       "       'City', 'State', 'ZIP', 'Status Code', 'EV Level1 EVSE Num',\n",
       "       'EV Level2 EVSE Num', 'EV DC Fast Count', 'EV Network',\n",
       "       'EV Network Web', 'Latitude', 'Longitude', 'Date Last Confirmed',\n",
       "       'ID', 'Updated At', 'Owner Type Code', 'Open Date',\n",
       "       'EV Connector Types', 'Country', 'EV Pricing', 'Restricted Access',\n",
       "       'STATEFP', 'COUNTYFP', 'County', 'TRACTCE', 'GEOID', 'NAME',\n",
       "       'NAMELSAD', 'ALAND', 'AWATER', 'INTPTLAT', 'INTPTLON', 'Tract',\n",
       "       'GreaterRegion', 'MTFCC', 'FUNCSTAT', 'ALAND_sqm', 'AWATER_sqm',\n",
       "       'Contiguous', 'Contiguo_1', 'Contiguo_2', 'UCD_urban_',\n",
       "       'Tract_POPU', 'NAME_12', 'SQMI_ALAND', 'DAC', 'Income_Gro',\n",
       "       'Shape_Leng', 'Join_Count', 'TARGET_FID', 'x', 'y', 'ObjectId',\n",
       "       'x2', 'y2', 'DAC/LIC', 'rural', 'DCFC', 'EV Network Clean',\n",
       "       'weight', 'weight_'], dtype=object)"
      ]
     },
     "execution_count": 4,
     "metadata": {},
     "output_type": "execute_result"
    }
   ],
   "source": [
    "np.array(df_ac.keys())"
   ]
  },
  {
   "cell_type": "code",
   "execution_count": 20,
   "id": "cc4c8fd2-2f45-47d4-a2c0-a30c8d4a070f",
   "metadata": {},
   "outputs": [
    {
     "data": {
      "text/html": [
       "<div>\n",
       "<style scoped>\n",
       "    .dataframe tbody tr th:only-of-type {\n",
       "        vertical-align: middle;\n",
       "    }\n",
       "\n",
       "    .dataframe tbody tr th {\n",
       "        vertical-align: top;\n",
       "    }\n",
       "\n",
       "    .dataframe thead th {\n",
       "        text-align: right;\n",
       "    }\n",
       "</style>\n",
       "<table border=\"1\" class=\"dataframe\">\n",
       "  <thead>\n",
       "    <tr style=\"text-align: right;\">\n",
       "      <th></th>\n",
       "      <th>EV Level2 EVSE Num</th>\n",
       "      <th>EV DC Fast Count</th>\n",
       "    </tr>\n",
       "  </thead>\n",
       "  <tbody>\n",
       "    <tr>\n",
       "      <th>0</th>\n",
       "      <td>2</td>\n",
       "      <td>NaN</td>\n",
       "    </tr>\n",
       "    <tr>\n",
       "      <th>1</th>\n",
       "      <td>2</td>\n",
       "      <td>NaN</td>\n",
       "    </tr>\n",
       "    <tr>\n",
       "      <th>2</th>\n",
       "      <td>2</td>\n",
       "      <td>NaN</td>\n",
       "    </tr>\n",
       "    <tr>\n",
       "      <th>3</th>\n",
       "      <td>6</td>\n",
       "      <td>NaN</td>\n",
       "    </tr>\n",
       "    <tr>\n",
       "      <th>4</th>\n",
       "      <td>2</td>\n",
       "      <td>NaN</td>\n",
       "    </tr>\n",
       "  </tbody>\n",
       "</table>\n",
       "</div>"
      ],
      "text/plain": [
       "   EV Level2 EVSE Num  EV DC Fast Count\n",
       "0                   2               NaN\n",
       "1                   2               NaN\n",
       "2                   2               NaN\n",
       "3                   6               NaN\n",
       "4                   2               NaN"
      ]
     },
     "execution_count": 20,
     "metadata": {},
     "output_type": "execute_result"
    }
   ],
   "source": [
    "df_ac.head(5)[['EV Level2 EVSE Num', 'EV DC Fast Count']]"
   ]
  },
  {
   "cell_type": "code",
   "execution_count": 10,
   "id": "33d570a0-3316-4652-b144-7d28d38ba5a9",
   "metadata": {},
   "outputs": [],
   "source": [
    "df_ac['lon_lat'] = [(r['Longitude'], r['Latitude']) for i, r in df_ac.iterrows()]\n",
    "df_dc['lon_lat'] = [(r['Longitude'], r['Latitude']) for i, r in df_dc.iterrows()]"
   ]
  },
  {
   "cell_type": "code",
   "execution_count": 22,
   "id": "9bf9d85e-ad11-4fdc-b588-7780d0ac6f02",
   "metadata": {},
   "outputs": [
    {
     "data": {
      "text/plain": [
       "(1, 1495, (1500, 65))"
      ]
     },
     "execution_count": 22,
     "metadata": {},
     "output_type": "execute_result"
    }
   ],
   "source": [
    "len(df_ac['EV DC Fast Count'].unique()),len(df_ac['lon_lat'].unique()),df_ac.shape"
   ]
  },
  {
   "cell_type": "code",
   "execution_count": 21,
   "id": "78e58dee-981d-4497-9c7c-d73a2bdfbdc9",
   "metadata": {},
   "outputs": [
    {
     "data": {
      "text/plain": [
       "(16, 497, (500, 65))"
      ]
     },
     "execution_count": 21,
     "metadata": {},
     "output_type": "execute_result"
    }
   ],
   "source": [
    "len(df_dc['EV Level2 EVSE Num'].unique()),len(df_dc['lon_lat'].unique()),df_dc.shape"
   ]
  },
  {
   "cell_type": "code",
   "execution_count": 17,
   "id": "5ac0c403-c4ae-428d-af19-71483095a63d",
   "metadata": {},
   "outputs": [],
   "source": [
    "df_combined = pd.concat([df_ac, df_dc], ignore_index = True)"
   ]
  },
  {
   "cell_type": "code",
   "execution_count": 19,
   "id": "7c008020-cb30-491f-9b78-2ab0988f5c9d",
   "metadata": {},
   "outputs": [
    {
     "data": {
      "text/plain": [
       "(1991, (2000, 65))"
      ]
     },
     "execution_count": 19,
     "metadata": {},
     "output_type": "execute_result"
    }
   ],
   "source": [
    "len(df_combined['lon_lat'].unique()),df_combined.shape"
   ]
  }
 ],
 "metadata": {
  "kernelspec": {
   "display_name": "Python 3 (ipykernel)",
   "language": "python",
   "name": "python3"
  },
  "language_info": {
   "codemirror_mode": {
    "name": "ipython",
    "version": 3
   },
   "file_extension": ".py",
   "mimetype": "text/x-python",
   "name": "python",
   "nbconvert_exporter": "python",
   "pygments_lexer": "ipython3",
   "version": "3.11.5"
  }
 },
 "nbformat": 4,
 "nbformat_minor": 5
}
