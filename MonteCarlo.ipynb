{
 "cells": [
  {
   "cell_type": "code",
   "execution_count": 3,
   "id": "88e3d685-c518-478a-a999-b0c5f41673c5",
   "metadata": {
    "tags": []
   },
   "outputs": [],
   "source": [
    "import warnings\n",
    "warnings.filterwarnings(\"ignore\")\n",
    "\n",
    "import os\n",
    "import sys\n",
    "import time\n",
    "import json\n",
    "import numpy as np\n",
    "import pandas as pd\n",
    "import geopandas as gpd\n",
    "import pickle as pkl\n",
    "import networkx as nx\n",
    "import matplotlib.pyplot as plt\n",
    "import networkx as nx\n",
    "\n",
    "import src\n",
    "from src.reload import deep_reload"
   ]
  },
  {
   "cell_type": "code",
   "execution_count": 26,
   "id": "8aee3124-d467-4e4d-9bdd-469c686c1a26",
   "metadata": {},
   "outputs": [
    {
     "data": {
      "text/plain": [
       "[0, 2, 4, 6, 8]"
      ]
     },
     "execution_count": 26,
     "metadata": {},
     "output_type": "execute_result"
    }
   ],
   "source": [
    "list(range(0, 10, 2))"
   ]
  },
  {
   "cell_type": "code",
   "execution_count": 30,
   "id": "2bbadd6e-3e26-4840-8bbe-bfc3cd0eb4e5",
   "metadata": {},
   "outputs": [
    {
     "name": "stdout",
     "output_type": "stream",
     "text": [
      "159 µs ± 310 ns per loop (mean ± std. dev. of 7 runs, 10,000 loops each)\n"
     ]
    }
   ],
   "source": [
    "def multiply_and_resample(x, y):\n",
    "\n",
    "    xg, yg = np.meshgrid(x, y, indexing = 'ij')\n",
    "\n",
    "    xy = (xg * yg).flatten()\n",
    "\n",
    "    return np.random.choice(xy, size = x.shape, replace = False)\n",
    "\n",
    "%timeit multiply_and_resample(np.random.rand(100), np.random.rand(100))"
   ]
  },
  {
   "cell_type": "code",
   "execution_count": 38,
   "id": "989e17ed-33a6-40a8-810e-8f72b374382c",
   "metadata": {},
   "outputs": [
    {
     "name": "stdout",
     "output_type": "stream",
     "text": [
      "138 µs ± 254 ns per loop (mean ± std. dev. of 7 runs, 10,000 loops each)\n"
     ]
    }
   ],
   "source": [
    "def multiply_and_resample(x, y):\n",
    "\n",
    "    xg, yg = np.atleast_2d(x, y)\n",
    "\n",
    "    xy = (xg.T @ yg).flatten()\n",
    "\n",
    "    return np.random.choice(xy, size = x.shape, replace = False)\n",
    "\n",
    "%timeit multiply_and_resample(np.random.rand(100), np.random.rand(100))"
   ]
  },
  {
   "cell_type": "code",
   "execution_count": 208,
   "id": "31fd9264-64e9-4135-89b7-7e4416a3126d",
   "metadata": {},
   "outputs": [],
   "source": [
    "from scipy.special import factorial\n",
    "\n",
    "def queuing_time(l, m, c):\n",
    "\n",
    "    # c2l = (l.std() ** 2) / (l.mean() ** 2)\n",
    "    # c2m = (m.std() ** 2) / (m.mean() ** 2)\n",
    "\n",
    "    rho = l / (c * m)\n",
    "\n",
    "    k = np.arange(0, c, 1)\n",
    "\n",
    "    p_0 = 1 / (\n",
    "        sum([(c * rho) ** k / factorial(k) for k in k]) +\n",
    "        (c * rho) ** c / (factorial(c) * (1 - rho))\n",
    "    )\n",
    "\n",
    "    l_q = (p_0 * (l / m) ** c * rho) / (factorial(c) * (1 - rho))\n",
    "\n",
    "    # w_q = l_q / l * ((c2l + c2m) / 2)\n",
    "    w_q = l_q / l\n",
    "\n",
    "    return w_q"
   ]
  },
  {
   "cell_type": "code",
   "execution_count": 210,
   "id": "503aa798-de68-4f39-a699-681c85df7e55",
   "metadata": {},
   "outputs": [
    {
     "data": {
      "text/plain": [
       "<BarContainer object of 20 artists>"
      ]
     },
     "execution_count": 210,
     "metadata": {},
     "output_type": "execute_result"
    },
    {
     "data": {
      "image/png": "[encoded data removed]",
      "text/plain": [
       "<Figure size 640x480 with 1 Axes>"
      ]
     },
     "metadata": {},
     "output_type": "display_data"
    }
   ],
   "source": [
    "from scipy.stats import uniform, norm, rv_histogram\n",
    "\n",
    "shape = (100, )\n",
    "\n",
    "arrival_dist = uniform(loc = 600, scale = 0)\n",
    "arrival_frequency = 1 / arrival_dist.rvs(size = shape)\n",
    "\n",
    "charge_energy_dist = norm(loc = 40 * 3.6e6, scale = 15 * 3.6e6)\n",
    "charge_energy = np.clip(charge_energy_dist.rvs(size = shape), 10e6, 100e6)\n",
    "\n",
    "charge_rates_dist = rv_histogram([[.6, .4], [80e3, 100e3, 120e3]])\n",
    "charge_rates = charge_rates_dist.rvs(size = shape)\n",
    "\n",
    "service_times = multiply_and_resample(charge_energy, 1/charge_rates)\n",
    "\n",
    "service_frequency = 1 / service_times\n",
    "\n",
    "# values, bins = np.histogram(service_frequency * 3600)\n",
    "# width = bins[1] - bins[0]\n",
    "# locations = bins[:-1] + width / 2\n",
    "# plt.bar(locations, values, width = .8 * width)\n",
    "\n",
    "# values, bins = np.histogram(arrival_frequency * 3600)\n",
    "# width = bins[1] - bins[0]\n",
    "# locations = bins[:-1] + width / 2\n",
    "# plt.bar(locations, values, width = .8 * width)\n",
    "\n",
    "n_servicers = 2\n",
    "\n",
    "qte = queuing_time(arrival_frequency, service_frequency, n_servicers)\n",
    "\n",
    "values, bins = np.histogram(qte / 60, bins = 20)\n",
    "width = bins[1] - bins[0]\n",
    "locations = bins[:-1] + width / 2\n",
    "plt.bar(locations, values, width = .8 * width)"
   ]
  },
  {
   "cell_type": "code",
   "execution_count": 188,
   "id": "9241181a-0af2-4bfa-a9a8-3879b7dd53f9",
   "metadata": {},
   "outputs": [
    {
     "data": {
      "text/plain": [
       "<BarContainer object of 20 artists>"
      ]
     },
     "execution_count": 188,
     "metadata": {},
     "output_type": "execute_result"
    },
    {
     "data": {
      "image/png": "[encoded data removed]",
      "text/plain": [
       "<Figure size 640x480 with 1 Axes>"
      ]
     },
     "metadata": {},
     "output_type": "display_data"
    }
   ],
   "source": [
    "n_servicers = 1\n",
    "\n",
    "qte = arrival_frequency / (service_frequency * n_servicers)\n",
    "\n",
    "values, bins = np.histogram(qte, bins = 20)\n",
    "width = bins[1] - bins[0]\n",
    "locations = bins[:-1] + width / 2\n",
    "plt.bar(locations, values, width = .8 * width)"
   ]
  },
  {
   "cell_type": "code",
   "execution_count": null,
   "id": "56b89f49-dcd6-4d91-8ed4-bad306fa35aa",
   "metadata": {},
   "outputs": [],
   "source": []
  },
  {
   "cell_type": "code",
   "execution_count": null,
   "id": "60a3bb3b-dff8-464d-bc75-ec790a222a10",
   "metadata": {},
   "outputs": [],
   "source": []
  },
  {
   "cell_type": "code",
   "execution_count": 64,
   "id": "48b8ecd2-8e4e-492c-af3a-fd4c4ce64688",
   "metadata": {},
   "outputs": [],
   "source": [
    "import json\n",
    "\n",
    "with open('../electric_vrp/routes.json', 'rb') as file:\n",
    "    routes = json.load(file)"
   ]
  },
  {
   "cell_type": "code",
   "execution_count": 66,
   "id": "e496f16b-6b3d-4f30-992a-4e6ce8fa50e8",
   "metadata": {},
   "outputs": [],
   "source": [
    "nodes_visited = [r['nodes'] for r in routes]"
   ]
  },
  {
   "cell_type": "code",
   "execution_count": 67,
   "id": "4ef0f6fa-3a15-4706-807e-b42e4f1ee2c9",
   "metadata": {},
   "outputs": [],
   "source": [
    "unique_nodes, unique_counts = np.unique(\n",
    "    np.concatenate(nodes_visited),\n",
    "    return_counts = True\n",
    ")"
   ]
  },
  {
   "cell_type": "code",
   "execution_count": 70,
   "id": "6e6751cd-4ed5-4fa7-b816-f5b4b4ee6199",
   "metadata": {},
   "outputs": [
    {
     "data": {
      "text/plain": [
       "(3, array([1000000000, 2000000000, 3000000000]))"
      ]
     },
     "execution_count": 70,
     "metadata": {},
     "output_type": "execute_result"
    }
   ],
   "source": [
    "(unique_counts > 1).sum(), unique_nodes[(unique_counts > 1)]"
   ]
  },
  {
   "cell_type": "code",
   "execution_count": 178,
   "id": "581481a2-5de1-45a8-9b09-aeeb7f6a1dae",
   "metadata": {},
   "outputs": [],
   "source": [
    "expected_time = sum([r['time_expected'] for r in routes])"
   ]
  },
  {
   "cell_type": "code",
   "execution_count": 179,
   "id": "cbc0d2de-04a7-4253-ba24-3d6435c5b3cb",
   "metadata": {},
   "outputs": [
    {
     "data": {
      "text/plain": [
       "4033.527656035608"
      ]
     },
     "execution_count": 179,
     "metadata": {},
     "output_type": "execute_result"
    }
   ],
   "source": [
    "expected_time / 3600"
   ]
  },
  {
   "cell_type": "code",
   "execution_count": 185,
   "id": "5049795c-38c8-4696-ab77-a59ddb95d1bd",
   "metadata": {},
   "outputs": [
    {
     "data": {
      "text/plain": [
       "1914.6666666666667"
      ]
     },
     "execution_count": 185,
     "metadata": {},
     "output_type": "execute_result"
    }
   ],
   "source": [
    "expected_trips_riverside = sum([2000000000 in r['nodes'] for r in routes])\n",
    "expected_trips_riverside / 3 * 16"
   ]
  },
  {
   "cell_type": "code",
   "execution_count": 184,
   "id": "22edf54e-fad5-47d3-bf5b-5ba1439b3e48",
   "metadata": {},
   "outputs": [
    {
     "data": {
      "text/plain": [
       "90.66666666666667"
      ]
     },
     "execution_count": 184,
     "metadata": {},
     "output_type": "execute_result"
    }
   ],
   "source": [
    "expected_trips_humboltd = sum([3000000000 in r['nodes'] for r in routes])\n",
    "expected_trips_humboltd / 3 * 16"
   ]
  }
 ],
 "metadata": {
  "kernelspec": {
   "display_name": "Python 3 (ipykernel)",
   "language": "python",
   "name": "python3"
  },
  "language_info": {
   "codemirror_mode": {
    "name": "ipython",
    "version": 3
   },
   "file_extension": ".py",
   "mimetype": "text/x-python",
   "name": "python",
   "nbconvert_exporter": "python",
   "pygments_lexer": "ipython3",
   "version": "3.11.5"
  }
 },
 "nbformat": 4,
 "nbformat_minor": 5
}
