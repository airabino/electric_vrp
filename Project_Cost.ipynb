{
 "cells": [
  {
   "cell_type": "code",
   "execution_count": 1,
   "id": "4a6806da-e1dc-448b-9eb2-fbc685f71fb3",
   "metadata": {
    "tags": []
   },
   "outputs": [],
   "source": [
    "import warnings\n",
    "warnings.filterwarnings(\"ignore\")\n",
    "\n",
    "import os\n",
    "import time\n",
    "import json\n",
    "import numpy as np\n",
    "import pandas as pd\n",
    "import geopandas as gpd\n",
    "import pickle as pkl\n",
    "import networkx as nx\n",
    "import matplotlib.pyplot as plt\n",
    "\n",
    "import src\n",
    "from src.reload import deep_reload"
   ]
  },
  {
   "cell_type": "code",
   "execution_count": 67,
   "id": "7c033c53-d155-40a0-81e8-982676b8c2a8",
   "metadata": {},
   "outputs": [
    {
     "data": {
      "text/plain": [
       "(40, 40, 84.75, 84.75)"
      ]
     },
     "execution_count": 67,
     "metadata": {},
     "output_type": "execute_result"
    }
   ],
   "source": [
    "hour_cost_4h = 2 * 20 \n",
    "hour_cost_8h = 2 * 20\n",
    "hour_cost_16h = 2 * 20 + 2 * (2 * 79 + 200) / 16\n",
    "hour_cost_24h = 2 * 20 + 3 * (2 * 79 + 200) / 24\n",
    "\n",
    "hour_cost_4h, hour_cost_8h, hour_cost_16h, hour_cost_24h"
   ]
  },
  {
   "cell_type": "code",
   "execution_count": 68,
   "id": "e40b487a-3af7-43ed-a5b8-7941771a4ad6",
   "metadata": {},
   "outputs": [
    {
     "data": {
      "text/plain": [
       "(109.75, 74.875, 84.75, 84.75)"
      ]
     },
     "execution_count": 68,
     "metadata": {},
     "output_type": "execute_result"
    }
   ],
   "source": [
    "hour_cost_4h = 2 * 20 + (79 + 200) / 4\n",
    "hour_cost_8h = 2 * 20 + (79 + 200) / 8\n",
    "hour_cost_16h = 2 * 20 + 2 * (2 * 79 + 200) / 16\n",
    "hour_cost_24h = 2 * 20 + 3 * (2 * 79 + 200) / 24\n",
    "\n",
    "hour_cost_4h, hour_cost_8h, hour_cost_16h, hour_cost_24h"
   ]
  },
  {
   "cell_type": "code",
   "execution_count": 18,
   "id": "ea8c5a25-da36-432e-8e7c-6dda4877061f",
   "metadata": {},
   "outputs": [
    {
     "name": "stdout",
     "output_type": "stream",
     "text": [
      "23.3277 29.793400000000002 34.89790000000001 17.8829 23.3277 28.7725 30.4837 38.8633 45.8463\n"
     ]
    }
   ],
   "source": [
    "print(\n",
    "    .59 * hour_cost_sr + charge_cost,\n",
    "    .78 * hour_cost_sr + charge_cost,\n",
    "    .93 * hour_cost_sr + charge_cost,\n",
    "    .43 * hour_cost_mr + charge_cost,\n",
    "    .59 * hour_cost_mr + charge_cost,\n",
    "    .75 * hour_cost_mr + charge_cost,\n",
    "    .39 * hour_cost_lr + charge_cost,\n",
    "    .51 * hour_cost_lr + charge_cost,\n",
    "    .61 * hour_cost_lr + charge_cost,\n",
    ")"
   ]
  },
  {
   "cell_type": "code",
   "execution_count": 19,
   "id": "6139a030-77ab-4fb0-94bd-a63cdbf7ac53",
   "metadata": {},
   "outputs": [
    {
     "name": "stdout",
     "output_type": "stream",
     "text": [
      "83979.72 107256.24 125632.44000000003 64378.439999999995 83979.72 103581.0 109741.31999999999 139907.88 165046.68\n"
     ]
    }
   ],
   "source": [
    "print(\n",
    "    3600 * (.59 * hour_cost_sr + charge_cost),\n",
    "    3600 * (.78 * hour_cost_sr + charge_cost),\n",
    "    3600 * (.93 * hour_cost_sr + charge_cost),\n",
    "    3600 * (.43 * hour_cost_mr + charge_cost),\n",
    "    3600 * (.59 * hour_cost_mr + charge_cost),\n",
    "    3600 * (.75 * hour_cost_mr + charge_cost),\n",
    "    3600 * (.39 * hour_cost_lr + charge_cost),\n",
    "    3600 * (.51 * hour_cost_lr + charge_cost),\n",
    "    3600 * (.61 * hour_cost_lr + charge_cost),\n",
    ")"
   ]
  },
  {
   "cell_type": "code",
   "execution_count": 21,
   "id": "c28e44e3-e23e-4253-a3f9-ab8c56248ac8",
   "metadata": {},
   "outputs": [
    {
     "data": {
      "text/plain": [
       "(103.78, 68.905, 69.83)"
      ]
     },
     "execution_count": 21,
     "metadata": {},
     "output_type": "execute_result"
    }
   ],
   "source": [
    "charge_cost = 3.25\n",
    "hour_cost_sr = 2 * 16.5 + 1.03 + (79 + 200) / 4\n",
    "hour_cost_mr = 2 * 16.5 + 1.03 + (79 + 200) / 8\n",
    "hour_cost_lr = 2 * 16.5 + 1.03 + 2 * (2 * 79 + 200) / 20\n",
    "\n",
    "hour_cost_sr, hour_cost_mr, hour_cost_lr"
   ]
  },
  {
   "cell_type": "code",
   "execution_count": 22,
   "id": "6e920d7a-a08f-44f2-a430-32bb9ce4e994",
   "metadata": {},
   "outputs": [
    {
     "name": "stdout",
     "output_type": "stream",
     "text": [
      "64.4802 84.1984 99.7654 32.879149999999996 43.90395 54.92875 30.4837 38.8633 45.8463\n"
     ]
    }
   ],
   "source": [
    "print(\n",
    "    .59 * hour_cost_sr + charge_cost,\n",
    "    .78 * hour_cost_sr + charge_cost,\n",
    "    .93 * hour_cost_sr + charge_cost,\n",
    "    .43 * hour_cost_mr + charge_cost,\n",
    "    .59 * hour_cost_mr + charge_cost,\n",
    "    .75 * hour_cost_mr + charge_cost,\n",
    "    .39 * hour_cost_lr + charge_cost,\n",
    "    .51 * hour_cost_lr + charge_cost,\n",
    "    .61 * hour_cost_lr + charge_cost,\n",
    ")"
   ]
  },
  {
   "cell_type": "code",
   "execution_count": 23,
   "id": "35b49008-1e00-4aa1-a1d7-8474f758f023",
   "metadata": {},
   "outputs": [
    {
     "name": "stdout",
     "output_type": "stream",
     "text": [
      "232128.72 303114.24000000005 359155.44 118364.93999999999 158054.22 197743.5 109741.31999999999 139907.88 165046.68\n"
     ]
    }
   ],
   "source": [
    "print(\n",
    "    3600 * (.59 * hour_cost_sr + charge_cost),\n",
    "    3600 * (.78 * hour_cost_sr + charge_cost),\n",
    "    3600 * (.93 * hour_cost_sr + charge_cost),\n",
    "    3600 * (.43 * hour_cost_mr + charge_cost),\n",
    "    3600 * (.59 * hour_cost_mr + charge_cost),\n",
    "    3600 * (.75 * hour_cost_mr + charge_cost),\n",
    "    3600 * (.39 * hour_cost_lr + charge_cost),\n",
    "    3600 * (.51 * hour_cost_lr + charge_cost),\n",
    "    3600 * (.61 * hour_cost_lr + charge_cost),\n",
    ")"
   ]
  },
  {
   "cell_type": "code",
   "execution_count": null,
   "id": "37f7f84c-afec-44b8-a67c-73c31d8fb541",
   "metadata": {},
   "outputs": [],
   "source": []
  },
  {
   "cell_type": "code",
   "execution_count": 40,
   "id": "1715ffc5-8a69-4da0-8f67-eed151fa5d37",
   "metadata": {},
   "outputs": [
    {
     "data": {
      "text/plain": [
       "(34.03, 34.03, 69.83)"
      ]
     },
     "execution_count": 40,
     "metadata": {},
     "output_type": "execute_result"
    }
   ],
   "source": [
    "charge_cost = 3.25\n",
    "hour_cost_sr = 2 * 16.5 + 1.03 \n",
    "hour_cost_mr = 2 * 16.5 + 1.03\n",
    "hour_cost_lr = 2 * 16.5 + 1.03 + 2 * (2 * 79 + 200) / 20\n",
    "\n",
    "hour_cost_sr, hour_cost_mr, hour_cost_lr"
   ]
  },
  {
   "cell_type": "code",
   "execution_count": 41,
   "id": "51729c7c-9bca-4892-b9a9-c88d3113a33b",
   "metadata": {},
   "outputs": [
    {
     "name": "stdout",
     "output_type": "stream",
     "text": [
      "23.3277 29.793400000000002 34.89790000000001 18.5635 24.008300000000002 29.793400000000002 56.3208 49.3378 48.6395\n"
     ]
    }
   ],
   "source": [
    "print(\n",
    "    .59 * hour_cost_sr + charge_cost,\n",
    "    .78 * hour_cost_sr + charge_cost,\n",
    "    .93 * hour_cost_sr + charge_cost,\n",
    "    .45 * hour_cost_mr + charge_cost,\n",
    "    .61 * hour_cost_mr + charge_cost,\n",
    "    .78 * hour_cost_mr + charge_cost,\n",
    "    .76 * hour_cost_lr + charge_cost,\n",
    "    .66 * hour_cost_lr + charge_cost,\n",
    "    .65 * hour_cost_lr + charge_cost,\n",
    ")"
   ]
  },
  {
   "cell_type": "code",
   "execution_count": 42,
   "id": "b045192b-8659-44d5-b4d3-8e89af43cb58",
   "metadata": {},
   "outputs": [
    {
     "name": "stdout",
     "output_type": "stream",
     "text": [
      "83979.72 107256.24 125632.44000000003 66828.6 86429.88 107256.24 202754.88 177616.08000000002 175102.19999999998\n"
     ]
    }
   ],
   "source": [
    "print(\n",
    "    3600 * (.59 * hour_cost_sr + charge_cost),\n",
    "    3600 * (.78 * hour_cost_sr + charge_cost),\n",
    "    3600 * (.93 * hour_cost_sr + charge_cost),\n",
    "    3600 * (.45 * hour_cost_mr + charge_cost),\n",
    "    3600 * (.61 * hour_cost_mr + charge_cost),\n",
    "    3600 * (.78 * hour_cost_mr + charge_cost),\n",
    "    3600 * (.76 * hour_cost_lr + charge_cost),\n",
    "    3600 * (.66 * hour_cost_lr + charge_cost),\n",
    "    3600 * (.65 * hour_cost_lr + charge_cost),\n",
    ")"
   ]
  },
  {
   "cell_type": "code",
   "execution_count": 37,
   "id": "2f051e27-3a35-4fd6-ac69-bd4111436e3e",
   "metadata": {},
   "outputs": [
    {
     "data": {
      "text/plain": [
       "(103.78, 68.905, 69.83)"
      ]
     },
     "execution_count": 37,
     "metadata": {},
     "output_type": "execute_result"
    }
   ],
   "source": [
    "charge_cost = 3.25\n",
    "hour_cost_sr = 2 * 16.5 + 1.03 + (79 + 200) / 4\n",
    "hour_cost_mr = 2 * 16.5 + 1.03 + (79 + 200) / 8\n",
    "hour_cost_lr = 2 * 16.5 + 1.03 + 2 * (2 * 79 + 200) / 20\n",
    "\n",
    "hour_cost_sr, hour_cost_mr, hour_cost_lr"
   ]
  },
  {
   "cell_type": "code",
   "execution_count": 38,
   "id": "c4be65df-7d94-44e5-b40b-94be16a2341f",
   "metadata": {},
   "outputs": [
    {
     "name": "stdout",
     "output_type": "stream",
     "text": [
      "64.4802 84.1984 99.7654 34.25725 45.28205 56.995900000000006 56.3208 49.3378 48.6395\n"
     ]
    }
   ],
   "source": [
    "print(\n",
    "    .59 * hour_cost_sr + charge_cost,\n",
    "    .78 * hour_cost_sr + charge_cost,\n",
    "    .93 * hour_cost_sr + charge_cost,\n",
    "    .45 * hour_cost_mr + charge_cost,\n",
    "    .61 * hour_cost_mr + charge_cost,\n",
    "    .78 * hour_cost_mr + charge_cost,\n",
    "    .76 * hour_cost_lr + charge_cost,\n",
    "    .66 * hour_cost_lr + charge_cost,\n",
    "    .65 * hour_cost_lr + charge_cost,\n",
    ")"
   ]
  },
  {
   "cell_type": "code",
   "execution_count": 39,
   "id": "f4fb963b-a25f-4a0b-bcdf-f864a9229642",
   "metadata": {},
   "outputs": [
    {
     "name": "stdout",
     "output_type": "stream",
     "text": [
      "232128.72 303114.24000000005 359155.44 123326.09999999999 163015.38 205185.24000000002 202754.88 177616.08000000002 175102.19999999998\n"
     ]
    }
   ],
   "source": [
    "print(\n",
    "    3600 * (.59 * hour_cost_sr + charge_cost),\n",
    "    3600 * (.78 * hour_cost_sr + charge_cost),\n",
    "    3600 * (.93 * hour_cost_sr + charge_cost),\n",
    "    3600 * (.45 * hour_cost_mr + charge_cost),\n",
    "    3600 * (.61 * hour_cost_mr + charge_cost),\n",
    "    3600 * (.78 * hour_cost_mr + charge_cost),\n",
    "    3600 * (.76 * hour_cost_lr + charge_cost),\n",
    "    3600 * (.66 * hour_cost_lr + charge_cost),\n",
    "    3600 * (.65 * hour_cost_lr + charge_cost),\n",
    ")"
   ]
  },
  {
   "cell_type": "code",
   "execution_count": null,
   "id": "9d8efe00-5554-4054-8d0a-16308213df50",
   "metadata": {},
   "outputs": [],
   "source": [
    "chargers_sr_sd = 1079\n",
    "chargers_sr_md = 578\n",
    "chargers_sr_ld = 261\n",
    "\n",
    "chargers_sr_sd = 3813\n",
    "chargers_sr_md = 3385\n",
    "chargers_sr_ld = 2983\n",
    "\n",
    "chargers_sr_sd = 4839\n",
    "chargers_sr_md = 4492\n",
    "chargers_sr_ld = 4404"
   ]
  },
  {
   "cell_type": "code",
   "execution_count": 45,
   "id": "41a0e4f9-4f64-4017-aa1c-32c0b59af680",
   "metadata": {},
   "outputs": [
    {
     "data": {
      "text/plain": [
       "(1900.1626946298063, 620.8373053701939)"
      ]
     },
     "execution_count": 45,
     "metadata": {},
     "output_type": "execute_result"
    }
   ],
   "source": [
    "(3600 - 1079) * (47.44 / (15.5 + 47.44)), (3600 - 1079) * (15.5 / (15.5 + 47.44))"
   ]
  },
  {
   "cell_type": "code",
   "execution_count": 46,
   "id": "9201d292-ca03-4ab7-9b90-6c2ab8902b01",
   "metadata": {},
   "outputs": [
    {
     "data": {
      "text/plain": [
       "(2273.1366700715016, 748.8633299284985)"
      ]
     },
     "execution_count": 46,
     "metadata": {},
     "output_type": "execute_result"
    }
   ],
   "source": [
    "(3600 - 578) * (36.82 / (12.13 + 36.82)), (3600 - 578) * (12.13 / (12.13 + 36.82))"
   ]
  },
  {
   "cell_type": "code",
   "execution_count": 47,
   "id": "0e6f3692-aedd-4dfd-81fc-47c78dd002db",
   "metadata": {},
   "outputs": [
    {
     "data": {
      "text/plain": [
       "(2529.896432111001, 809.1035678889989)"
      ]
     },
     "execution_count": 47,
     "metadata": {},
     "output_type": "execute_result"
    }
   ],
   "source": [
    "(3600 - 261) * (30.58 / (9.78 + 30.58)), (3600 - 261) * (9.78 / (9.78 + 30.58))"
   ]
  },
  {
   "cell_type": "code",
   "execution_count": 50,
   "id": "496659cf-5f08-434b-9818-3f3d75a64c1a",
   "metadata": {},
   "outputs": [
    {
     "data": {
      "text/plain": [
       "78073.15"
      ]
     },
     "execution_count": 50,
     "metadata": {},
     "output_type": "execute_result"
    }
   ],
   "source": [
    "1079 * 23.33 + 1900 * 17.88 + 621 * 30.48"
   ]
  },
  {
   "cell_type": "code",
   "execution_count": 51,
   "id": "ff24aa46-20ee-451c-a8b8-00da0ef7e17f",
   "metadata": {},
   "outputs": [
    {
     "data": {
      "text/plain": [
       "99353.84999999999"
      ]
     },
     "execution_count": 51,
     "metadata": {},
     "output_type": "execute_result"
    }
   ],
   "source": [
    "578 * 29.79 + 2273 * 23.33 + 749 * 38.86"
   ]
  },
  {
   "cell_type": "code",
   "execution_count": 52,
   "id": "01098195-c227-4b91-92ee-0e47958c0873",
   "metadata": {},
   "outputs": [
    {
     "data": {
      "text/plain": [
       "118989.65"
      ]
     },
     "execution_count": 52,
     "metadata": {},
     "output_type": "execute_result"
    }
   ],
   "source": [
    "261 * 34.90 + 2530 * 28.77 + 809 * 45.85"
   ]
  },
  {
   "cell_type": "code",
   "execution_count": 53,
   "id": "25e9735b-20fa-4dc0-bd49-0d8b686c7c03",
   "metadata": {},
   "outputs": [
    {
     "data": {
      "text/plain": [
       "150974.0"
      ]
     },
     "execution_count": 53,
     "metadata": {},
     "output_type": "execute_result"
    }
   ],
   "source": [
    "1079 * 64.48 + 1900 * 32.88 + 621 * 30.48"
   ]
  },
  {
   "cell_type": "code",
   "execution_count": 54,
   "id": "fe305bfe-e721-43a2-b983-69031953439c",
   "metadata": {},
   "outputs": [
    {
     "data": {
      "text/plain": [
       "177558.44"
      ]
     },
     "execution_count": 54,
     "metadata": {},
     "output_type": "execute_result"
    }
   ],
   "source": [
    "578 * 84.20 + 2273 * 43.90 + 749 * 38.86"
   ]
  },
  {
   "cell_type": "code",
   "execution_count": 55,
   "id": "99c1d14c-76fa-4b99-be0e-5b393f409de3",
   "metadata": {},
   "outputs": [
    {
     "data": {
      "text/plain": [
       "202105.52"
      ]
     },
     "execution_count": 55,
     "metadata": {},
     "output_type": "execute_result"
    }
   ],
   "source": [
    "261 * 99.77 + 2530 * 54.93 + 809 * 45.85"
   ]
  },
  {
   "cell_type": "code",
   "execution_count": 56,
   "id": "eb2d0715-4f0a-40ef-ad1a-9a7476ec1a89",
   "metadata": {},
   "outputs": [
    {
     "data": {
      "text/plain": [
       "71962.82999999999"
      ]
     },
     "execution_count": 56,
     "metadata": {},
     "output_type": "execute_result"
    }
   ],
   "source": [
    "1079 * 23.33 + 2521 * 18.56"
   ]
  },
  {
   "cell_type": "code",
   "execution_count": 57,
   "id": "e8bec45b-93bd-4b46-8007-45613f006dec",
   "metadata": {},
   "outputs": [
    {
     "data": {
      "text/plain": [
       "155943.38"
      ]
     },
     "execution_count": 57,
     "metadata": {},
     "output_type": "execute_result"
    }
   ],
   "source": [
    "1079 * 64.48 + 2521 * 34.26"
   ]
  },
  {
   "cell_type": "code",
   "execution_count": 58,
   "id": "a31c5e6c-c7ea-4c4b-93a0-d5b739e2c9f1",
   "metadata": {},
   "outputs": [
    {
     "data": {
      "text/plain": [
       "130431.49000000002"
      ]
     },
     "execution_count": 58,
     "metadata": {},
     "output_type": "execute_result"
    }
   ],
   "source": [
    "578 * 29.79 + 1417 * 24.01 + 1605 * 49.34"
   ]
  },
  {
   "cell_type": "code",
   "execution_count": 61,
   "id": "9c596d7a-86ba-4f92-8af8-0f207de4d6b4",
   "metadata": {},
   "outputs": [
    {
     "data": {
      "text/plain": [
       "192020.06"
      ]
     },
     "execution_count": 61,
     "metadata": {},
     "output_type": "execute_result"
    }
   ],
   "source": [
    "578 * 84.20 + 1417 * 45.28 + 1605 * 49.34"
   ]
  },
  {
   "cell_type": "code",
   "execution_count": 62,
   "id": "8233fc36-0380-4627-b7bf-ce7e7b2126b8",
   "metadata": {},
   "outputs": [
    {
     "data": {
      "text/plain": [
       "142130.71"
      ]
     },
     "execution_count": 62,
     "metadata": {},
     "output_type": "execute_result"
    }
   ],
   "source": [
    "261 * 34.90 + 1559 * 29.79 + 1780 * 48.64"
   ]
  },
  {
   "cell_type": "code",
   "execution_count": 63,
   "id": "e2bfd86f-b0fa-437f-91c1-5c0234de9f4c",
   "metadata": {},
   "outputs": [
    {
     "data": {
      "text/plain": [
       "201482.16999999998"
      ]
     },
     "execution_count": 63,
     "metadata": {},
     "output_type": "execute_result"
    }
   ],
   "source": [
    "261 * 99.77 + 1559 * 57.00 + 1780 * 48.64"
   ]
  },
  {
   "cell_type": "code",
   "execution_count": null,
   "id": "1fd74f64-9922-4cbd-9dc0-a062ae4d5325",
   "metadata": {},
   "outputs": [],
   "source": []
  }
 ],
 "metadata": {
  "kernelspec": {
   "display_name": "Python 3 (ipykernel)",
   "language": "python",
   "name": "python3"
  },
  "language_info": {
   "codemirror_mode": {
    "name": "ipython",
    "version": 3
   },
   "file_extension": ".py",
   "mimetype": "text/x-python",
   "name": "python",
   "nbconvert_exporter": "python",
   "pygments_lexer": "ipython3",
   "version": "3.11.5"
  }
 },
 "nbformat": 4,
 "nbformat_minor": 5
}
