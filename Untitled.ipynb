{
 "cells": [
  {
   "cell_type": "code",
   "execution_count": 2,
   "id": "31935c58-a7de-4e33-b106-5b6b6a4ddfb8",
   "metadata": {
    "tags": []
   },
   "outputs": [],
   "source": [
    "import warnings\n",
    "warnings.filterwarnings(\"ignore\")\n",
    "\n",
    "import os\n",
    "import time\n",
    "import numpy as np\n",
    "import pandas as pd\n",
    "import geopandas as gpd\n",
    "import pickle as pkl\n",
    "import matplotlib.pyplot as plt\n",
    "\n",
    "import src\n",
    "from src.reload import deep_reload"
   ]
  },
  {
   "cell_type": "code",
   "execution_count": 3,
   "id": "9cb2087b-1374-4a37-98bb-751548ab1280",
   "metadata": {},
   "outputs": [],
   "source": [
    "# Loading the road map shapefile into a GeoDataFrame\n",
    "\n",
    "filepath = 'RoadMap/roadmap.shp'\n",
    "\n",
    "gdf = gpd.read_file(filepath)\n",
    "\n",
    "gdf = gdf.to_crs(4326)"
   ]
  },
  {
   "cell_type": "code",
   "execution_count": 4,
   "id": "11d2e9ea-4eec-4b3f-aa60-8d76b5ae8432",
   "metadata": {},
   "outputs": [],
   "source": [
    "deep_reload(src)\n",
    "\n",
    "graph = src.network.Graph_From_GDF(gdf, directed = False)"
   ]
  },
  {
   "cell_type": "code",
   "execution_count": 6,
   "id": "0ea3b376-00e1-424a-93e1-7afa7d3c44f5",
   "metadata": {},
   "outputs": [],
   "source": [
    "deep_reload(src)\n",
    "\n",
    "edge_info = {\n",
    "    'length': lambda e: e['LENGTH']*1e3,\n",
    "    'speed': lambda e: e['SPEEDLIM']/3.6,\n",
    "    'time': lambda e: (e['LENGTH']*1e3)/(e['SPEEDLIM']/3.6),\n",
    "}\n",
    "\n",
    "roadmap = src.network.Reformat_Graph(graph, edge_info)"
   ]
  },
  {
   "cell_type": "code",
   "execution_count": 7,
   "id": "85286051-9b07-40af-bc33-d5d9f9450a4a",
   "metadata": {},
   "outputs": [
    {
     "data": {
      "text/plain": [
       "{1: {'length': 450.0, 'speed': 17.77777777777778, 'time': 25.3125},\n",
       " 42152: {'length': 440.0, 'speed': 17.77777777777778, 'time': 24.75}}"
      ]
     },
     "execution_count": 7,
     "metadata": {},
     "output_type": "execute_result"
    }
   ],
   "source": [
    "roadmap._adj[0]"
   ]
  },
  {
   "cell_type": "code",
   "execution_count": 10,
   "id": "c88830be-27cd-4a90-81ef-f6fec0d3d859",
   "metadata": {},
   "outputs": [],
   "source": [
    "import networkx as nx\n",
    "\n",
    "nlg=nx.node_link_data(roadmap)"
   ]
  },
  {
   "cell_type": "code",
   "execution_count": 34,
   "id": "57530128-929e-4067-8db9-0b1188a62954",
   "metadata": {},
   "outputs": [],
   "source": [
    "deep_reload(src)\n",
    "\n",
    "src.store.Write(nlg,'tst.json')"
   ]
  },
  {
   "cell_type": "code",
   "execution_count": 33,
   "id": "93b36aa8-5269-4192-a5a9-302267bd30e2",
   "metadata": {},
   "outputs": [],
   "source": [
    "import json\n",
    "# import simplejson\n",
    "    \n",
    "class NpEncoder(json.JSONEncoder):\n",
    "    def default(self, obj):\n",
    "        if isinstance(obj, np.integer):\n",
    "            return int(obj)\n",
    "        if isinstance(obj, np.floating):\n",
    "            return float(obj)\n",
    "        if isinstance(obj, np.ndarray):\n",
    "            return obj.tolist()\n",
    "        return super(NpEncoder, self).default(obj)\n",
    "\n",
    "filename='tst.json'\n",
    "permission='w'\n",
    "\n",
    "with open(filename,permission) as file:\n",
    "\n",
    "    json.dump(pretty_floats(nlg),file,cls=NpEncoder)"
   ]
  }
 ],
 "metadata": {
  "kernelspec": {
   "display_name": "Python 3 (ipykernel)",
   "language": "python",
   "name": "python3"
  },
  "language_info": {
   "codemirror_mode": {
    "name": "ipython",
    "version": 3
   },
   "file_extension": ".py",
   "mimetype": "text/x-python",
   "name": "python",
   "nbconvert_exporter": "python",
   "pygments_lexer": "ipython3",
   "version": "3.11.5"
  }
 },
 "nbformat": 4,
 "nbformat_minor": 5
}
