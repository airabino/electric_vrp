{
 "cells": [
  {
   "cell_type": "code",
   "execution_count": 1,
   "id": "1b6abe0a-154a-43f3-8391-165383acb167",
   "metadata": {
    "tags": []
   },
   "outputs": [],
   "source": [
    "import warnings\n",
    "warnings.filterwarnings(\"ignore\")\n",
    "\n",
    "import os\n",
    "import time\n",
    "import numpy as np\n",
    "import pandas as pd\n",
    "import geopandas as gpd\n",
    "import pickle as pkl\n",
    "import networkx as nx\n",
    "import matplotlib.pyplot as plt\n",
    "\n",
    "import src\n",
    "from src.reload import deep_reload"
   ]
  },
  {
   "cell_type": "code",
   "execution_count": 2,
   "id": "0c34aa8c-86c4-4e58-82aa-b2ecb25ae3a9",
   "metadata": {},
   "outputs": [],
   "source": [
    "# Testing load graph from shapefile\n",
    "deep_reload(src)\n",
    "\n",
    "node_attributes={}\n",
    "\n",
    "link_attributes={\n",
    "    'length': lambda e: e['LENGTH']*1e3,\n",
    "    'speed': lambda e: e['SPEEDLIM']/3.6,\n",
    "    'time': lambda e: (e['LENGTH']*1e3)/(e['SPEEDLIM']/3.6),\n",
    "}\n",
    "\n",
    "roadmap = src.graph.graph_from_shapefile(\n",
    "    'RoadMap/roadmap.shp',\n",
    "    node_attributes = node_attributes,\n",
    "    link_attributes = link_attributes,\n",
    ")"
   ]
  },
  {
   "cell_type": "code",
   "execution_count": 3,
   "id": "2dc5f4fb-f3e2-4917-8019-d04c7ba42f43",
   "metadata": {},
   "outputs": [],
   "source": [
    "# Testing save graph to json\n",
    "deep_reload(src)\n",
    "\n",
    "filename = 'RoadMap/roadmap.json'\n",
    "\n",
    "src.graph.graph_to_json(roadmap, filename)"
   ]
  },
  {
   "cell_type": "code",
   "execution_count": 4,
   "id": "e74fc22e-9f2f-47c9-9d17-37aace14eabe",
   "metadata": {},
   "outputs": [],
   "source": [
    "# Testing load graph from json\n",
    "deep_reload(src)\n",
    "\n",
    "filename = 'RoadMap/roadmap.json'\n",
    "\n",
    "roadmap = src.graph.graph_from_json(filename)"
   ]
  },
  {
   "cell_type": "code",
   "execution_count": 7,
   "id": "b1720745-17ed-44f6-9746-85a367139cee",
   "metadata": {},
   "outputs": [],
   "source": [
    "# Testing loading data from csv\n",
    "deep_reload(src)\n",
    "\n",
    "filename=[\n",
    "    'CEC/ACL2_Weighted_Sample.csv',\n",
    "    'CEC/DCL2_Weighted_Sample.csv',\n",
    "    'CEC/Depots.csv',\n",
    "]\n",
    "\n",
    "node_attributes={\n",
    "    'x': lambda r: r['Longitude'],\n",
    "    'y': lambda r: r['Latitude'],\n",
    "    'ev_network_clean': lambda r: r['EV Network Clean'],\n",
    "    'added': lambda r: 0,\n",
    "    'visited': lambda r: 0,\n",
    "}\n",
    "\n",
    "graph = src.graph.graph_from_csv(filename, node_attributes)"
   ]
  },
  {
   "cell_type": "code",
   "execution_count": 8,
   "id": "14bcf38d-7e65-4266-afd7-e0cda0e8c7a4",
   "metadata": {},
   "outputs": [],
   "source": [
    "# Testing graph-to-graph assignment\n",
    "deep_reload(src)\n",
    "\n",
    "x, y = np.array([[n['x'], n['y']] for n in graph._node.values()]).T\n",
    "\n",
    "node_assignment = src.adjacency.node_assignment_from_coordinates(roadmap, x, y)"
   ]
  },
  {
   "cell_type": "code",
   "execution_count": 9,
   "id": "cdfed665-d534-49ea-a81f-8c84c436e6c1",
   "metadata": {
    "scrolled": true
   },
   "outputs": [
    {
     "data": {
      "text/plain": [
       "[{'id': 27221,\n",
       "  'query': array([-121.552662,   37.007051]),\n",
       "  'result': array([-121.551502,   37.004138])},\n",
       " {'id': 30687,\n",
       "  'query': array([-118.4614221 ,   34.03997437]),\n",
       "  'result': array([-118.463337,   34.040543])},\n",
       " {'id': 18203,\n",
       "  'query': array([-122.0595171 ,   37.97246804]),\n",
       "  'result': array([-122.060028,   37.973517])},\n",
       " {'id': 50225,\n",
       "  'query': array([-121.370537,   38.380569]),\n",
       "  'result': array([-121.365632,   38.380197])}]"
      ]
     },
     "execution_count": 9,
     "metadata": {},
     "output_type": "execute_result"
    }
   ],
   "source": [
    "node_assignment[:4]"
   ]
  },
  {
   "cell_type": "code",
   "execution_count": 14,
   "id": "ff16975e-b6ce-404e-a9c5-cc30bf95301a",
   "metadata": {
    "scrolled": true
   },
   "outputs": [
    {
     "data": {
      "text/plain": [
       "[{'source': 27221,\n",
       "  'target': 30286,\n",
       "  'length': 185170.0,\n",
       "  'time': 7285.1302697302735}]"
      ]
     },
     "execution_count": 14,
     "metadata": {},
     "output_type": "execute_result"
    }
   ],
   "source": [
    "# Testing routing along map single O/D\n",
    "deep_reload(src)\n",
    "\n",
    "sources = node_assignment[0]['id']\n",
    "targets = [node_assignment[1000]['id']]\n",
    "\n",
    "weights = {\n",
    "    'length': 300e3,\n",
    "    'time': 3600*8\n",
    "}\n",
    "    \n",
    "\n",
    "res = src.adjacency.single_source_dijkstra(\n",
    "    roadmap,\n",
    "    sources,\n",
    "    targets,\n",
    "    weights,\n",
    ")\n",
    "\n",
    "res"
   ]
  },
  {
   "cell_type": "code",
   "execution_count": 27,
   "id": "b958f771-dfc0-4175-bc52-e334f436f1e3",
   "metadata": {},
   "outputs": [
    {
     "data": {
      "text/plain": [
       "[{'source': 27221,\n",
       "  'target': 9756,\n",
       "  'length': 99780.0,\n",
       "  'time': 4498.959740259741},\n",
       " {'source': 27221,\n",
       "  'target': 24665,\n",
       "  'length': 214290.0,\n",
       "  'time': 7720.8333166833145},\n",
       " {'source': 27221,\n",
       "  'target': 49910,\n",
       "  'length': 238720.0,\n",
       "  'time': 8798.8299825175}]"
      ]
     },
     "execution_count": 27,
     "metadata": {},
     "output_type": "execute_result"
    }
   ],
   "source": [
    "# Testing routing along map multiple O/D\n",
    "deep_reload(src)\n",
    "\n",
    "rng = np.random.default_rng(1030)\n",
    "\n",
    "sources = node_assignment[0]['id']\n",
    "targets = [node_assignment[idx]['id'] for idx in rng.integers(0, len(node_assignment), 5)]\n",
    "\n",
    "weights = {\n",
    "    'length': 300e3,\n",
    "    'time': 3600*8,\n",
    "}\n",
    "    \n",
    "\n",
    "result = src.adjacency.single_source_dijkstra(\n",
    "    roadmap,\n",
    "    sources,\n",
    "    targets,\n",
    "    weights,\n",
    ")\n",
    "\n",
    "result"
   ]
  },
  {
   "cell_type": "code",
   "execution_count": 11,
   "id": "80404f7c-e2fb-46de-9f4f-1de1daacedab",
   "metadata": {},
   "outputs": [
    {
     "data": {
      "text/plain": [
       "(array([30286]), array([[185170.        ,   7285.13026973]]))"
      ]
     },
     "execution_count": 11,
     "metadata": {},
     "output_type": "execute_result"
    }
   ],
   "source": [
    "keys_select, route_information_select"
   ]
  },
  {
   "cell_type": "code",
   "execution_count": 46,
   "id": "deb5c22b-039b-4d19-a8f5-a6e0961b1fca",
   "metadata": {},
   "outputs": [
    {
     "data": {
      "text/plain": [
       "([1, 2], [2, 2])"
      ]
     },
     "execution_count": 46,
     "metadata": {},
     "output_type": "execute_result"
    }
   ],
   "source": [
    "a=[1,2]\n",
    "b=a[:]\n",
    "\n",
    "b[0]+=1\n",
    "\n",
    "a,b"
   ]
  },
  {
   "cell_type": "code",
   "execution_count": 66,
   "id": "7d7e9470-c149-4ad8-9c78-c715392a3e20",
   "metadata": {},
   "outputs": [
    {
     "data": {
      "text/plain": [
       "True"
      ]
     },
     "execution_count": 66,
     "metadata": {},
     "output_type": "execute_result"
    }
   ],
   "source": [
    "any([True, False])"
   ]
  }
 ],
 "metadata": {
  "kernelspec": {
   "display_name": "Python 3 (ipykernel)",
   "language": "python",
   "name": "python3"
  },
  "language_info": {
   "codemirror_mode": {
    "name": "ipython",
    "version": 3
   },
   "file_extension": ".py",
   "mimetype": "text/x-python",
   "name": "python",
   "nbconvert_exporter": "python",
   "pygments_lexer": "ipython3",
   "version": "3.11.5"
  }
 },
 "nbformat": 4,
 "nbformat_minor": 5
}
