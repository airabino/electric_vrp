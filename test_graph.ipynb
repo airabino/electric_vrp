{
 "cells": [
  {
   "cell_type": "code",
   "execution_count": 1,
   "id": "1b6abe0a-154a-43f3-8391-165383acb167",
   "metadata": {
    "tags": []
   },
   "outputs": [],
   "source": [
    "import warnings\n",
    "warnings.filterwarnings(\"ignore\")\n",
    "\n",
    "import os\n",
    "import time\n",
    "import numpy as np\n",
    "import pandas as pd\n",
    "import geopandas as gpd\n",
    "import pickle as pkl\n",
    "import networkx as nx\n",
    "import matplotlib.pyplot as plt\n",
    "\n",
    "import src\n",
    "from src.reload import deep_reload"
   ]
  },
  {
   "cell_type": "code",
   "execution_count": 2,
   "id": "0c34aa8c-86c4-4e58-82aa-b2ecb25ae3a9",
   "metadata": {},
   "outputs": [],
   "source": [
    "# Testing load graph from shapefile\n",
    "deep_reload(src)\n",
    "\n",
    "node_attributes={}\n",
    "\n",
    "link_attributes={\n",
    "    'length': lambda e: e['LENGTH']*1e3,\n",
    "    'speed': lambda e: e['SPEEDLIM']/3.6,\n",
    "    'time': lambda e: (e['LENGTH']*1e3)/(e['SPEEDLIM']/3.6),\n",
    "}\n",
    "\n",
    "roadmap = src.graph.graph_from_shapefile(\n",
    "    'atlas/atlas.shp',\n",
    "    node_attributes = node_attributes,\n",
    "    link_attributes = link_attributes,\n",
    ")"
   ]
  },
  {
   "cell_type": "code",
   "execution_count": 3,
   "id": "2dc5f4fb-f3e2-4917-8019-d04c7ba42f43",
   "metadata": {},
   "outputs": [],
   "source": [
    "# Testing save graph to json\n",
    "deep_reload(src)\n",
    "\n",
    "filename = 'atlas/atlas.json'\n",
    "\n",
    "src.graph.graph_to_json(roadmap, filename)"
   ]
  },
  {
   "cell_type": "code",
   "execution_count": 4,
   "id": "e74fc22e-9f2f-47c9-9d17-37aace14eabe",
   "metadata": {},
   "outputs": [],
   "source": [
    "# Testing load graph from json\n",
    "deep_reload(src)\n",
    "\n",
    "filename = 'atlas/atlas.json'\n",
    "\n",
    "roadmap = src.graph.graph_from_json(filename)"
   ]
  },
  {
   "cell_type": "code",
   "execution_count": 28,
   "id": "b1720745-17ed-44f6-9746-85a367139cee",
   "metadata": {},
   "outputs": [],
   "source": [
    "# Testing loading data from csv\n",
    "deep_reload(src)\n",
    "\n",
    "filename=[\n",
    "    'CEC/ACL2_Weighted_Sample.csv',\n",
    "    'CEC/DCL2_Weighted_Sample.csv',\n",
    "    'CEC/Depots.csv',\n",
    "]\n",
    "\n",
    "node_attributes={\n",
    "    'x': lambda r: r['Longitude'],\n",
    "    'y': lambda r: r['Latitude'],\n",
    "    'ev_network_clean': lambda r: r['EV Network Clean'],\n",
    "}\n",
    "\n",
    "graph = src.graph.graph_from_csv(filename, node_attributes)"
   ]
  },
  {
   "cell_type": "code",
   "execution_count": 155,
   "id": "6a05b9a4-d761-4c62-ae37-6b359e8cf696",
   "metadata": {},
   "outputs": [],
   "source": [
    "# Testing loading data from csv\n",
    "deep_reload(src)\n",
    "\n",
    "filename=[\n",
    "    'CEC/ACL2_Weighted_Sample.csv',\n",
    "    'CEC/DCL2_Weighted_Sample.csv',\n",
    "    'CEC/Depots.csv',\n",
    "]\n",
    "\n",
    "\n",
    "df = src.graph.dataframe_from_csv(filename)"
   ]
  },
  {
   "cell_type": "code",
   "execution_count": 158,
   "id": "7b62d24f-ce23-418c-aadf-16ca168a6a2d",
   "metadata": {},
   "outputs": [],
   "source": [
    "df_keys = list(df.keys())\n",
    "\n",
    "fields = {}\n",
    "\n",
    "for field in df_keys:\n",
    "\n",
    "    fields[field] = lambda r: r[field]"
   ]
  },
  {
   "cell_type": "code",
   "execution_count": 8,
   "id": "14bcf38d-7e65-4266-afd7-e0cda0e8c7a4",
   "metadata": {},
   "outputs": [],
   "source": [
    "# Testing graph-to-graph assignment\n",
    "deep_reload(src)\n",
    "\n",
    "x, y = np.array([[n['x'], n['y']] for n in graph._node.values()]).T\n",
    "\n",
    "node_assignment = src.adjacency.closest_nodes_from_coordinates(roadmap, x, y)"
   ]
  },
  {
   "cell_type": "code",
   "execution_count": 9,
   "id": "cdfed665-d534-49ea-a81f-8c84c436e6c1",
   "metadata": {
    "scrolled": true
   },
   "outputs": [
    {
     "data": {
      "text/plain": [
       "[{'id': 27221,\n",
       "  'query': array([-121.552662,   37.007051]),\n",
       "  'result': array([-121.551502,   37.004138])},\n",
       " {'id': 30687,\n",
       "  'query': array([-118.4614221 ,   34.03997437]),\n",
       "  'result': array([-118.463337,   34.040543])},\n",
       " {'id': 18203,\n",
       "  'query': array([-122.0595171 ,   37.97246804]),\n",
       "  'result': array([-122.060028,   37.973517])},\n",
       " {'id': 50225,\n",
       "  'query': array([-121.370537,   38.380569]),\n",
       "  'result': array([-121.365632,   38.380197])}]"
      ]
     },
     "execution_count": 9,
     "metadata": {},
     "output_type": "execute_result"
    }
   ],
   "source": [
    "node_assignment[:4]"
   ]
  },
  {
   "cell_type": "code",
   "execution_count": 14,
   "id": "ff16975e-b6ce-404e-a9c5-cc30bf95301a",
   "metadata": {
    "scrolled": true
   },
   "outputs": [
    {
     "data": {
      "text/plain": [
       "[{'source': 27221,\n",
       "  'target': 30286,\n",
       "  'length': 185170.0,\n",
       "  'time': 7285.1302697302735}]"
      ]
     },
     "execution_count": 14,
     "metadata": {},
     "output_type": "execute_result"
    }
   ],
   "source": [
    "# Testing routing along map single O/D\n",
    "deep_reload(src)\n",
    "\n",
    "sources = node_assignment[0]['id']\n",
    "targets = [node_assignment[1000]['id']]\n",
    "\n",
    "weights = {\n",
    "    'length': 300e3,\n",
    "    'time': 3600*8\n",
    "}\n",
    "    \n",
    "\n",
    "res = src.adjacency.single_source_dijkstra(\n",
    "    roadmap,\n",
    "    sources,\n",
    "    targets,\n",
    "    weights,\n",
    ")\n",
    "\n",
    "res"
   ]
  },
  {
   "cell_type": "code",
   "execution_count": 27,
   "id": "b958f771-dfc0-4175-bc52-e334f436f1e3",
   "metadata": {},
   "outputs": [
    {
     "data": {
      "text/plain": [
       "[{'source': 27221,\n",
       "  'target': 9756,\n",
       "  'length': 99780.0,\n",
       "  'time': 4498.959740259741},\n",
       " {'source': 27221,\n",
       "  'target': 24665,\n",
       "  'length': 214290.0,\n",
       "  'time': 7720.8333166833145},\n",
       " {'source': 27221,\n",
       "  'target': 49910,\n",
       "  'length': 238720.0,\n",
       "  'time': 8798.8299825175}]"
      ]
     },
     "execution_count": 27,
     "metadata": {},
     "output_type": "execute_result"
    }
   ],
   "source": [
    "# Testing routing along map multiple O/D\n",
    "deep_reload(src)\n",
    "\n",
    "rng = np.random.default_rng(1030)\n",
    "\n",
    "sources = node_assignment[0]['id']\n",
    "targets = [node_assignment[idx]['id'] for idx in rng.integers(0, len(node_assignment), 5)]\n",
    "\n",
    "weights = {\n",
    "    'length': 300e3,\n",
    "    'time': 3600*8,\n",
    "}\n",
    "    \n",
    "\n",
    "result = src.adjacency.single_source_dijkstra(\n",
    "    roadmap,\n",
    "    sources,\n",
    "    targets,\n",
    "    weights,\n",
    ")\n",
    "\n",
    "result"
   ]
  },
  {
   "cell_type": "code",
   "execution_count": 179,
   "id": "51198e7c-0288-4784-9f67-0bad7b7a57e0",
   "metadata": {},
   "outputs": [
    {
     "name": "stdout",
     "output_type": "stream",
     "text": [
      "\u001b[34m Progress [------------>] (5/5) 100.00%, 3.83 it/s, 1.57 s elapsed, 0.00 s remaining\u001b[0m\n",
      "\n"
     ]
    }
   ],
   "source": [
    "# Testing routing along map multiple O and multiple D\n",
    "deep_reload(src)\n",
    "\n",
    "rng = np.random.default_rng(1030)\n",
    "\n",
    "sources = [node_assignment[idx]['id'] for idx in rng.integers(0, len(node_assignment), 5)]\n",
    "targets = [node_assignment[idx]['id'] for idx in rng.integers(0, len(node_assignment), 5)]\n",
    "\n",
    "weights = {\n",
    "    'length': 300e3,\n",
    "    'time': 3600*8,\n",
    "}\n",
    "    \n",
    "\n",
    "result = src.adjacency.multiple_source_dijkstra(\n",
    "    roadmap,\n",
    "    sources,\n",
    "    targets,\n",
    "    weights,\n",
    "    pb_kwargs = {'color': '\\33[3m'},\n",
    ")"
   ]
  },
  {
   "cell_type": "code",
   "execution_count": 193,
   "id": "ecf2b4a1-ec8e-497a-95a3-956c2554ba70",
   "metadata": {},
   "outputs": [],
   "source": [
    "# Testing adding adjacency to graph\n",
    "deep_reload(src)\n",
    "\n",
    "rng = np.random.default_rng(1030)\n",
    "\n",
    "sources = rng.choice(list(graph.nodes), 15)\n",
    "\n",
    "subgraph = src.graph.subgraph(graph, sources)\n",
    "\n",
    "for n in subgraph._node.values():\n",
    "    n['status']=0\n",
    "\n",
    "weights = {\n",
    "    'length': 300e3,\n",
    "    'time': 3600*8,\n",
    "}\n",
    "\n",
    "subgraph = src.adjacency.adjacency(roadmap, subgraph, weights,\n",
    "                                   pb_kwargs = {'disp': False},)"
   ]
  },
  {
   "cell_type": "code",
   "execution_count": null,
   "id": "47afd3d8-8b22-4dcd-a4cd-38a22c0feaab",
   "metadata": {},
   "outputs": [],
   "source": []
  }
 ],
 "metadata": {
  "kernelspec": {
   "display_name": "Python 3 (ipykernel)",
   "language": "python",
   "name": "python3"
  },
  "language_info": {
   "codemirror_mode": {
    "name": "ipython",
    "version": 3
   },
   "file_extension": ".py",
   "mimetype": "text/x-python",
   "name": "python",
   "nbconvert_exporter": "python",
   "pygments_lexer": "ipython3",
   "version": "3.11.5"
  }
 },
 "nbformat": 4,
 "nbformat_minor": 5
}
