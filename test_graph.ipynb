{
 "cells": [
  {
   "cell_type": "code",
   "execution_count": 1,
   "id": "1b6abe0a-154a-43f3-8391-165383acb167",
   "metadata": {
    "tags": []
   },
   "outputs": [],
   "source": [
    "import warnings\n",
    "warnings.filterwarnings(\"ignore\")\n",
    "\n",
    "import os\n",
    "import time\n",
    "import numpy as np\n",
    "import pandas as pd\n",
    "import geopandas as gpd\n",
    "import pickle as pkl\n",
    "import networkx as nx\n",
    "import matplotlib.pyplot as plt\n",
    "\n",
    "import src\n",
    "from src.reload import deep_reload"
   ]
  },
  {
   "cell_type": "code",
   "execution_count": 2,
   "id": "0c34aa8c-86c4-4e58-82aa-b2ecb25ae3a9",
   "metadata": {},
   "outputs": [],
   "source": [
    "# Testing load graph from shapefile\n",
    "deep_reload(src)\n",
    "\n",
    "node_attributes={}\n",
    "\n",
    "link_attributes={\n",
    "    'length': lambda e: e['LENGTH']*1e3,\n",
    "    'speed': lambda e: e['SPEEDLIM']/3.6,\n",
    "    'time': lambda e: (e['LENGTH']*1e3)/(e['SPEEDLIM']/3.6),\n",
    "}\n",
    "\n",
    "roadmap = src.graph.graph_from_shapefile(\n",
    "    'RoadMap/roadmap.shp',\n",
    "    node_attributes = node_attributes,\n",
    "    link_attributes = link_attributes,\n",
    ")"
   ]
  },
  {
   "cell_type": "code",
   "execution_count": 3,
   "id": "2dc5f4fb-f3e2-4917-8019-d04c7ba42f43",
   "metadata": {},
   "outputs": [],
   "source": [
    "# Testing save graph to json\n",
    "deep_reload(src)\n",
    "\n",
    "filename = 'RoadMap/roadmap.json'\n",
    "\n",
    "src.graph.graph_to_json(roadmap, filename)"
   ]
  },
  {
   "cell_type": "code",
   "execution_count": 4,
   "id": "e74fc22e-9f2f-47c9-9d17-37aace14eabe",
   "metadata": {},
   "outputs": [],
   "source": [
    "# Testing load graph from json\n",
    "deep_reload(src)\n",
    "\n",
    "filename = 'RoadMap/roadmap.json'\n",
    "\n",
    "roadmap = src.graph.graph_from_json(filename)"
   ]
  },
  {
   "cell_type": "code",
   "execution_count": 28,
   "id": "b1720745-17ed-44f6-9746-85a367139cee",
   "metadata": {},
   "outputs": [],
   "source": [
    "# Testing loading data from csv\n",
    "deep_reload(src)\n",
    "\n",
    "filename=[\n",
    "    'CEC/ACL2_Weighted_Sample.csv',\n",
    "    'CEC/DCL2_Weighted_Sample.csv',\n",
    "    'CEC/Depots.csv',\n",
    "]\n",
    "\n",
    "node_attributes={\n",
    "    'x': lambda r: r['Longitude'],\n",
    "    'y': lambda r: r['Latitude'],\n",
    "    'ev_network_clean': lambda r: r['EV Network Clean'],\n",
    "}\n",
    "\n",
    "graph = src.graph.graph_from_csv(filename, node_attributes)"
   ]
  },
  {
   "cell_type": "code",
   "execution_count": 8,
   "id": "14bcf38d-7e65-4266-afd7-e0cda0e8c7a4",
   "metadata": {},
   "outputs": [],
   "source": [
    "# Testing graph-to-graph assignment\n",
    "deep_reload(src)\n",
    "\n",
    "x, y = np.array([[n['x'], n['y']] for n in graph._node.values()]).T\n",
    "\n",
    "node_assignment = src.adjacency.closest_nodes_from_coordinates(roadmap, x, y)"
   ]
  },
  {
   "cell_type": "code",
   "execution_count": 9,
   "id": "cdfed665-d534-49ea-a81f-8c84c436e6c1",
   "metadata": {
    "scrolled": true
   },
   "outputs": [
    {
     "data": {
      "text/plain": [
       "[{'id': 27221,\n",
       "  'query': array([-121.552662,   37.007051]),\n",
       "  'result': array([-121.551502,   37.004138])},\n",
       " {'id': 30687,\n",
       "  'query': array([-118.4614221 ,   34.03997437]),\n",
       "  'result': array([-118.463337,   34.040543])},\n",
       " {'id': 18203,\n",
       "  'query': array([-122.0595171 ,   37.97246804]),\n",
       "  'result': array([-122.060028,   37.973517])},\n",
       " {'id': 50225,\n",
       "  'query': array([-121.370537,   38.380569]),\n",
       "  'result': array([-121.365632,   38.380197])}]"
      ]
     },
     "execution_count": 9,
     "metadata": {},
     "output_type": "execute_result"
    }
   ],
   "source": [
    "node_assignment[:4]"
   ]
  },
  {
   "cell_type": "code",
   "execution_count": 14,
   "id": "ff16975e-b6ce-404e-a9c5-cc30bf95301a",
   "metadata": {
    "scrolled": true
   },
   "outputs": [
    {
     "data": {
      "text/plain": [
       "[{'source': 27221,\n",
       "  'target': 30286,\n",
       "  'length': 185170.0,\n",
       "  'time': 7285.1302697302735}]"
      ]
     },
     "execution_count": 14,
     "metadata": {},
     "output_type": "execute_result"
    }
   ],
   "source": [
    "# Testing routing along map single O/D\n",
    "deep_reload(src)\n",
    "\n",
    "sources = node_assignment[0]['id']\n",
    "targets = [node_assignment[1000]['id']]\n",
    "\n",
    "weights = {\n",
    "    'length': 300e3,\n",
    "    'time': 3600*8\n",
    "}\n",
    "    \n",
    "\n",
    "res = src.adjacency.single_source_dijkstra(\n",
    "    roadmap,\n",
    "    sources,\n",
    "    targets,\n",
    "    weights,\n",
    ")\n",
    "\n",
    "res"
   ]
  },
  {
   "cell_type": "code",
   "execution_count": 27,
   "id": "b958f771-dfc0-4175-bc52-e334f436f1e3",
   "metadata": {},
   "outputs": [
    {
     "data": {
      "text/plain": [
       "[{'source': 27221,\n",
       "  'target': 9756,\n",
       "  'length': 99780.0,\n",
       "  'time': 4498.959740259741},\n",
       " {'source': 27221,\n",
       "  'target': 24665,\n",
       "  'length': 214290.0,\n",
       "  'time': 7720.8333166833145},\n",
       " {'source': 27221,\n",
       "  'target': 49910,\n",
       "  'length': 238720.0,\n",
       "  'time': 8798.8299825175}]"
      ]
     },
     "execution_count": 27,
     "metadata": {},
     "output_type": "execute_result"
    }
   ],
   "source": [
    "# Testing routing along map multiple O/D\n",
    "deep_reload(src)\n",
    "\n",
    "rng = np.random.default_rng(1030)\n",
    "\n",
    "sources = node_assignment[0]['id']\n",
    "targets = [node_assignment[idx]['id'] for idx in rng.integers(0, len(node_assignment), 5)]\n",
    "\n",
    "weights = {\n",
    "    'length': 300e3,\n",
    "    'time': 3600*8,\n",
    "}\n",
    "    \n",
    "\n",
    "result = src.adjacency.single_source_dijkstra(\n",
    "    roadmap,\n",
    "    sources,\n",
    "    targets,\n",
    "    weights,\n",
    ")\n",
    "\n",
    "result"
   ]
  },
  {
   "cell_type": "code",
   "execution_count": 142,
   "id": "51198e7c-0288-4784-9f67-0bad7b7a57e0",
   "metadata": {},
   "outputs": [
    {
     "name": "stdout",
     "output_type": "stream",
     "text": [
      "\u001b[34m Progress [------------>] (5/5) 100.00%, 9.91 it/s, 0.61 s elapsed, 0.00 s remaining\u001b[0m\n",
      "\n"
     ]
    }
   ],
   "source": [
    "# Testing routing along map multiple O and multiple D\n",
    "deep_reload(src)\n",
    "\n",
    "rng = np.random.default_rng(1030)\n",
    "\n",
    "sources = [node_assignment[idx]['id'] for idx in rng.integers(0, len(node_assignment), 5)]\n",
    "targets = [node_assignment[idx]['id'] for idx in rng.integers(0, len(node_assignment), 5)]\n",
    "\n",
    "weights = {\n",
    "    'length': 300e3,\n",
    "    'time': 3600*8,\n",
    "}\n",
    "    \n",
    "\n",
    "result = src.adjacency.multiple_source_dijkstra(\n",
    "    roadmap,\n",
    "    sources,\n",
    "    targets,\n",
    "    weights,\n",
    "    pb_kwargs = {'color': '\\33[34m'},\n",
    ")"
   ]
  },
  {
   "cell_type": "code",
   "execution_count": 143,
   "id": "ecf2b4a1-ec8e-497a-95a3-956c2554ba70",
   "metadata": {},
   "outputs": [
    {
     "name": "stdout",
     "output_type": "stream",
     "text": [
      "Unexpected exception formatting exception. Falling back to standard exception\n"
     ]
    },
    {
     "name": "stderr",
     "output_type": "stream",
     "text": [
      "Traceback (most recent call last):\n",
      "  File \"/home/aaron/anaconda3/lib/python3.11/site-packages/IPython/core/interactiveshell.py\", line 3526, in run_code\n",
      "    exec(code_obj, self.user_global_ns, self.user_ns)\n",
      "  File \"/tmp/ipykernel_133517/1590644538.py\", line 18, in <module>\n",
      "    subgraph = src.adjacency.adjacency(roadmap, subgraph, weights)\n",
      "               ^^^^^^^^^^^^^^^^^^^^^^^^^^^^^^^^^^^^^^^^^^^^^^^^^^^\n",
      "  File \"/home/aaron/Desktop/electric_vrp/src/adjacency.py\", line 175, in adjacency\n",
      "    results = multiple_source_dijkstra(atlas, sources, targets, weights, **kwargs)\n",
      "              ^^^^^^^^^^^^^^^^^^^^^^^^^^^^^^^^^^^^^^^^^^^^^^^^^^^^^^^^^^^^^^^^^^^^\n",
      "  File \"/home/aaron/Desktop/electric_vrp/src/adjacency.py\", line 106, in multiple_source_dijkstra\n",
      "    for source in ProgressBar(sources, **kwargs['pb_kwargs']):\n",
      "                  ^^^^^^^^^^^^^^^^^^^^^^^^^^^^^^^^^^^^^^^^^^^\n",
      "TypeError: ProgressBar.__init__() got an unexpected keyword argument 'verbose'\n",
      "\n",
      "During handling of the above exception, another exception occurred:\n",
      "\n",
      "Traceback (most recent call last):\n",
      "  File \"/home/aaron/anaconda3/lib/python3.11/site-packages/IPython/core/interactiveshell.py\", line 2120, in showtraceback\n",
      "    stb = self.InteractiveTB.structured_traceback(\n",
      "          ^^^^^^^^^^^^^^^^^^^^^^^^^^^^^^^^^^^^^^^^\n",
      "  File \"/home/aaron/anaconda3/lib/python3.11/site-packages/IPython/core/ultratb.py\", line 1435, in structured_traceback\n",
      "    return FormattedTB.structured_traceback(\n",
      "           ^^^^^^^^^^^^^^^^^^^^^^^^^^^^^^^^^\n",
      "  File \"/home/aaron/anaconda3/lib/python3.11/site-packages/IPython/core/ultratb.py\", line 1326, in structured_traceback\n",
      "    return VerboseTB.structured_traceback(\n",
      "           ^^^^^^^^^^^^^^^^^^^^^^^^^^^^^^^\n",
      "  File \"/home/aaron/anaconda3/lib/python3.11/site-packages/IPython/core/ultratb.py\", line 1173, in structured_traceback\n",
      "    formatted_exception = self.format_exception_as_a_whole(etype, evalue, etb, number_of_lines_of_context,\n",
      "                          ^^^^^^^^^^^^^^^^^^^^^^^^^^^^^^^^^^^^^^^^^^^^^^^^^^^^^^^^^^^^^^^^^^^^^^^^^^^^^^^^\n",
      "  File \"/home/aaron/anaconda3/lib/python3.11/site-packages/IPython/core/ultratb.py\", line 1088, in format_exception_as_a_whole\n",
      "    frames.append(self.format_record(record))\n",
      "                  ^^^^^^^^^^^^^^^^^^^^^^^^^^\n",
      "  File \"/home/aaron/anaconda3/lib/python3.11/site-packages/IPython/core/ultratb.py\", line 970, in format_record\n",
      "    frame_info.lines, Colors, self.has_colors, lvals\n",
      "    ^^^^^^^^^^^^^^^^\n",
      "  File \"/home/aaron/anaconda3/lib/python3.11/site-packages/IPython/core/ultratb.py\", line 792, in lines\n",
      "    return self._sd.lines\n",
      "           ^^^^^^^^^^^^^^\n",
      "  File \"/home/aaron/anaconda3/lib/python3.11/site-packages/stack_data/utils.py\", line 145, in cached_property_wrapper\n",
      "    value = obj.__dict__[self.func.__name__] = self.func(obj)\n",
      "                                               ^^^^^^^^^^^^^^\n",
      "  File \"/home/aaron/anaconda3/lib/python3.11/site-packages/stack_data/core.py\", line 698, in lines\n",
      "    pieces = self.included_pieces\n",
      "             ^^^^^^^^^^^^^^^^^^^^\n",
      "  File \"/home/aaron/anaconda3/lib/python3.11/site-packages/stack_data/utils.py\", line 145, in cached_property_wrapper\n",
      "    value = obj.__dict__[self.func.__name__] = self.func(obj)\n",
      "                                               ^^^^^^^^^^^^^^\n",
      "  File \"/home/aaron/anaconda3/lib/python3.11/site-packages/stack_data/core.py\", line 649, in included_pieces\n",
      "    pos = scope_pieces.index(self.executing_piece)\n",
      "                             ^^^^^^^^^^^^^^^^^^^^\n",
      "  File \"/home/aaron/anaconda3/lib/python3.11/site-packages/stack_data/utils.py\", line 145, in cached_property_wrapper\n",
      "    value = obj.__dict__[self.func.__name__] = self.func(obj)\n",
      "                                               ^^^^^^^^^^^^^^\n",
      "  File \"/home/aaron/anaconda3/lib/python3.11/site-packages/stack_data/core.py\", line 628, in executing_piece\n",
      "    return only(\n",
      "           ^^^^^\n",
      "  File \"/home/aaron/anaconda3/lib/python3.11/site-packages/executing/executing.py\", line 164, in only\n",
      "    raise NotOneValueFound('Expected one value, found 0')\n",
      "executing.executing.NotOneValueFound: Expected one value, found 0\n"
     ]
    }
   ],
   "source": [
    "# Testing adding adjacency to graph\n",
    "deep_reload(src)\n",
    "\n",
    "rng = np.random.default_rng(1030)\n",
    "\n",
    "sources = rng.choice(list(graph.nodes), 15)\n",
    "\n",
    "subgraph = src.graph.subgraph(graph, sources)\n",
    "\n",
    "for n in subgraph._node.values():\n",
    "    n['status']=0\n",
    "\n",
    "weights = {\n",
    "    'length': 300e3,\n",
    "    'time': 3600*8,\n",
    "}\n",
    "\n",
    "subgraph = src.adjacency.adjacency(roadmap, subgraph, weights)"
   ]
  }
 ],
 "metadata": {
  "kernelspec": {
   "display_name": "Python 3 (ipykernel)",
   "language": "python",
   "name": "python3"
  },
  "language_info": {
   "codemirror_mode": {
    "name": "ipython",
    "version": 3
   },
   "file_extension": ".py",
   "mimetype": "text/x-python",
   "name": "python",
   "nbconvert_exporter": "python",
   "pygments_lexer": "ipython3",
   "version": "3.11.5"
  }
 },
 "nbformat": 4,
 "nbformat_minor": 5
}
