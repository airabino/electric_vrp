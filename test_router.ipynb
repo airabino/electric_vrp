{
 "cells": [
  {
   "cell_type": "code",
   "execution_count": 1,
   "id": "ae132de3-a86e-419a-aa66-2b63ca6c046d",
   "metadata": {
    "tags": []
   },
   "outputs": [],
   "source": [
    "import warnings\n",
    "warnings.filterwarnings(\"ignore\")\n",
    "\n",
    "import os\n",
    "import time\n",
    "import numpy as np\n",
    "import pandas as pd\n",
    "import geopandas as gpd\n",
    "import pickle as pkl\n",
    "import networkx as nx\n",
    "import matplotlib.pyplot as plt\n",
    "\n",
    "import src\n",
    "from src.reload import deep_reload"
   ]
  },
  {
   "cell_type": "code",
   "execution_count": 2,
   "id": "69d6885c-bea7-490b-a08c-bf322f10661d",
   "metadata": {},
   "outputs": [],
   "source": [
    "# Testing load graph from json\n",
    "deep_reload(src)\n",
    "\n",
    "filename = 'graph.json'\n",
    "\n",
    "graph = src.graph.graph_from_json(filename)"
   ]
  },
  {
   "cell_type": "code",
   "execution_count": 273,
   "id": "8e6e2992-424e-4fd1-a1a7-03e35fde30d9",
   "metadata": {},
   "outputs": [],
   "source": [
    "import json\n",
    "\n",
    "filename = 'parameters_cec_router.json'\n",
    "\n",
    "with open(filename, 'r') as file:\n",
    "\n",
    "    parameters = json.load(file)"
   ]
  },
  {
   "cell_type": "code",
   "execution_count": 235,
   "id": "0e1e0164-d261-4f9e-9e2e-beb20d5505b1",
   "metadata": {},
   "outputs": [],
   "source": [
    "# Assigning nodes to depots based on Voronoi cells\n",
    "deep_reload(src)\n",
    "\n",
    "center_nodes = parameters['depot_nodes']\n",
    "weight = parameters['voronoi_weight']\n",
    "\n",
    "graph = src.router.assign_depot(graph, center_nodes, weight = weight)"
   ]
  },
  {
   "cell_type": "code",
   "execution_count": 236,
   "id": "9cbb7376-8bb1-4d17-8d72-12094140b132",
   "metadata": {},
   "outputs": [],
   "source": [
    "# Assinging random number to each node for selection\n",
    "deep_reload(src)\n",
    "\n",
    "seed = parameters['rng_seed']\n",
    "\n",
    "graph = src.router.assign_rng(graph, seed)"
   ]
  },
  {
   "cell_type": "code",
   "execution_count": 237,
   "id": "8d4bbe4f-3b14-4995-9541-3ad37c23426a",
   "metadata": {},
   "outputs": [],
   "source": [
    "# Assinging vehicles to nodes\n",
    "deep_reload(src)\n",
    "\n",
    "vehicles = parameters['vehicles']\n",
    "\n",
    "graph = src.router.assign_vehicle(graph, vehicles)"
   ]
  },
  {
   "cell_type": "code",
   "execution_count": 238,
   "id": "dcd51957-63d3-4abd-8945-ad7e8660178a",
   "metadata": {},
   "outputs": [],
   "source": [
    "# Producing subgraphs for routing\n",
    "deep_reload(src)\n",
    "\n",
    "categories = {\n",
    "    'vehicle': list(parameters['vehicles'].keys()),\n",
    "    'depot': parameters['depot_nodes'],\n",
    "}\n",
    "\n",
    "subgraphs = src.router.produce_subgraphs(graph, categories)\n",
    "# subgraphs"
   ]
  },
  {
   "cell_type": "code",
   "execution_count": 240,
   "id": "9c733beb-09e0-477c-88f7-97685a5b17c6",
   "metadata": {},
   "outputs": [],
   "source": [
    "# Producing adjacency matrices for routing\n",
    "deep_reload(src)\n",
    "\n",
    "weights = parameters['route_weights']\n",
    "\n",
    "adjacency = src.router.produce_adjacency(subgraphs, weights)"
   ]
  },
  {
   "cell_type": "code",
   "execution_count": 11,
   "id": "77799d31-9f86-4a7d-bf17-694a6bfce45e",
   "metadata": {},
   "outputs": [],
   "source": [
    "# Producing assignments or routing\n",
    "deep_reload(src)\n",
    "\n",
    "assignments = src.router.produce_assignments(subgraphs)"
   ]
  },
  {
   "cell_type": "code",
   "execution_count": 249,
   "id": "158f2a4f-2aac-4694-b426-3f540e99c427",
   "metadata": {},
   "outputs": [],
   "source": [
    "# Producing bounds\n",
    "deep_reload(src)\n",
    "\n",
    "vehicles = parameters['vehicles']\n",
    "weights = parameters['route_weights']\n",
    "\n",
    "route_bounds, leg_bounds, stop_weights = src.router.produce_bounds(\n",
    "    subgraphs, vehicles, weights)"
   ]
  },
  {
   "cell_type": "code",
   "execution_count": 254,
   "id": "45627702-336f-415c-90c4-7253ea7dec40",
   "metadata": {},
   "outputs": [
    {
     "data": {
      "text/plain": [
       "[[0, 400000.0], [0, 10800]]"
      ]
     },
     "execution_count": 254,
     "metadata": {},
     "output_type": "execute_result"
    }
   ],
   "source": [
    "vehicle = 'Bolt (Short)'\n",
    "depot = 1000000000\n",
    "\n",
    "case = (vehicle, depot)\n",
    "\n",
    "route_bounds[case]"
   ]
  },
  {
   "cell_type": "code",
   "execution_count": 274,
   "id": "f73914ea-aec3-4d39-9ef7-b65d3170959b",
   "metadata": {},
   "outputs": [],
   "source": [
    "# Producing routing inputs\n",
    "deep_reload(src)\n",
    "\n",
    "cases = src.router.produce_routing_inputs(graph, parameters)"
   ]
  },
  {
   "cell_type": "code",
   "execution_count": 276,
   "id": "83d61bc1-913b-4fc5-92aa-3086d2517d43",
   "metadata": {},
   "outputs": [],
   "source": [
    "# Producing un-optimized routes\n",
    "deep_reload(src)\n",
    "\n",
    "vehicle = 'Bolt (Infinite)'\n",
    "depot = 1000000000\n",
    "\n",
    "case = cases[(vehicle, depot)]\n",
    "\n",
    "routes, success = src.router.depot_router(\n",
    "    case['adjacency'],\n",
    "    case['assignments']['node_to_idx'][depot],\n",
    "    case['route_bounds'],\n",
    "    case['leg_bounds'],\n",
    "    case['stop_weights'],\n",
    ")"
   ]
  },
  {
   "cell_type": "code",
   "execution_count": 152,
   "id": "e1074bbc-905e-48e2-a460-96aa96593a79",
   "metadata": {},
   "outputs": [],
   "source": [
    "# Producing un-optimized routes\n",
    "deep_reload(src)\n",
    "\n",
    "combination = ('Bolt', 1000000000)\n",
    "case_index = 1\n",
    "route_bounds_case = [rb[case_index] for rb in route_bounds[combination]]\n",
    "leg_bounds_case = [rb[case_index] for rb in leg_bounds[combination]]\n",
    "stop_weights_case = [rb[case_index] for rb in stop_weights[combination]]\n",
    "\n",
    "routes, success = src.router.clarke_wright(\n",
    "    adjacency[combination],\n",
    "    assignments[combination]['node_to_idx'][combination[1]],\n",
    "    route_bounds_case,\n",
    "    leg_bounds_case,\n",
    "    stop_weights_case,\n",
    ")"
   ]
  },
  {
   "cell_type": "code",
   "execution_count": 25,
   "id": "ae19c232-41f2-45b1-b03c-439ac210c8c3",
   "metadata": {},
   "outputs": [
    {
     "data": {
      "text/plain": [
       "(399570.0, 7.506465749528248, [True, True])"
      ]
     },
     "execution_count": 25,
     "metadata": {},
     "output_type": "execute_result"
    }
   ],
   "source": [
    "deep_reload(src)\n",
    "\n",
    "weights, validity = src.router.evaluate_route(\n",
    "    adjacency[combination],\n",
    "    routes[8],\n",
    "    route_bounds_case,\n",
    "    leg_bounds_case,\n",
    "    stop_weights_case,\n",
    ")\n",
    "\n",
    "weights[0], weights[1]/3600, validity"
   ]
  },
  {
   "cell_type": "code",
   "execution_count": 27,
   "id": "995fb3cf-fe2d-4bdd-aa2f-7f92c2120eb1",
   "metadata": {},
   "outputs": [],
   "source": [
    "deep_reload(src)\n",
    "\n",
    "weights, validity = src.router.evaluate_routes(\n",
    "    adjacency[combination],\n",
    "    routes,\n",
    "    route_bounds_case,\n",
    "    leg_bounds_case,\n",
    "    stop_weights_case,\n",
    ")"
   ]
  },
  {
   "cell_type": "code",
   "execution_count": 80,
   "id": "4dbec30f-2e5f-4283-815b-5893f2962a9a",
   "metadata": {},
   "outputs": [
    {
     "name": "stdout",
     "output_type": "stream",
     "text": [
      "[192950.0, 23015.310052447552] [242280.0, 25344.692794705294]\n"
     ]
    }
   ],
   "source": [
    "deep_reload(src)\n",
    "\n",
    "opt_route = src.router.anneal_route(\n",
    "    adjacency[combination],\n",
    "    routes[5],\n",
    "    route_bounds_case,\n",
    "    leg_bounds_case,\n",
    "    stop_weights_case,\n",
    ")"
   ]
  },
  {
   "cell_type": "code",
   "execution_count": 77,
   "id": "ae7344db-a18b-4f66-b1d9-fb0efb863689",
   "metadata": {},
   "outputs": [
    {
     "data": {
      "text/plain": [
       "[213, 3, 27, 4, 92, 174, 213]"
      ]
     },
     "execution_count": 77,
     "metadata": {},
     "output_type": "execute_result"
    }
   ],
   "source": [
    "opt_route"
   ]
  },
  {
   "cell_type": "code",
   "execution_count": 214,
   "id": "487bdcd3-3e1b-4ae9-8079-8a4698105399",
   "metadata": {},
   "outputs": [
    {
     "name": "stdout",
     "output_type": "stream",
     "text": [
      "27714450.0 27336370.0\n"
     ]
    }
   ],
   "source": [
    "deep_reload(src)\n",
    "\n",
    "opt_routes = src.router.anneal_routes(\n",
    "    adjacency[combination],\n",
    "    routes,\n",
    "    route_bounds_case,\n",
    "    leg_bounds_case,\n",
    "    stop_weights_case,\n",
    "    steps = 1000,\n",
    ")"
   ]
  },
  {
   "cell_type": "code",
   "execution_count": 271,
   "id": "34bc4e36-c033-41b2-80c7-2f1a09632853",
   "metadata": {},
   "outputs": [
    {
     "data": {
      "text/plain": [
       "inf"
      ]
     },
     "execution_count": 271,
     "metadata": {},
     "output_type": "execute_result"
    }
   ],
   "source": [
    "import json\n",
    "json.loads('[Infinity]')[0]+1"
   ]
  },
  {
   "cell_type": "code",
   "execution_count": 268,
   "id": "b5130845-b2e6-449f-b3eb-0171d440fef2",
   "metadata": {},
   "outputs": [
    {
     "data": {
      "text/plain": [
       "[inf, -inf, nan]"
      ]
     },
     "execution_count": 268,
     "metadata": {},
     "output_type": "execute_result"
    }
   ],
   "source": [
    "json.loads('[Infinity, -Infinity, NaN]')"
   ]
  }
 ],
 "metadata": {
  "kernelspec": {
   "display_name": "Python 3 (ipykernel)",
   "language": "python",
   "name": "python3"
  },
  "language_info": {
   "codemirror_mode": {
    "name": "ipython",
    "version": 3
   },
   "file_extension": ".py",
   "mimetype": "text/x-python",
   "name": "python",
   "nbconvert_exporter": "python",
   "pygments_lexer": "ipython3",
   "version": "3.11.5"
  }
 },
 "nbformat": 4,
 "nbformat_minor": 5
}
