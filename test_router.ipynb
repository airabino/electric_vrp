{
 "cells": [
  {
   "cell_type": "code",
   "execution_count": 1,
   "id": "ae132de3-a86e-419a-aa66-2b63ca6c046d",
   "metadata": {
    "tags": []
   },
   "outputs": [],
   "source": [
    "import warnings\n",
    "warnings.filterwarnings(\"ignore\")\n",
    "\n",
    "import os\n",
    "import time\n",
    "import numpy as np\n",
    "import pandas as pd\n",
    "import geopandas as gpd\n",
    "import pickle as pkl\n",
    "import networkx as nx\n",
    "import matplotlib.pyplot as plt\n",
    "\n",
    "import src\n",
    "from src.reload import deep_reload"
   ]
  },
  {
   "cell_type": "code",
   "execution_count": 2,
   "id": "69d6885c-bea7-490b-a08c-bf322f10661d",
   "metadata": {},
   "outputs": [],
   "source": [
    "# Testing load graph from json\n",
    "deep_reload(src)\n",
    "\n",
    "filename = 'graph.json'\n",
    "\n",
    "graph = src.graph.graph_from_json(filename)"
   ]
  },
  {
   "cell_type": "code",
   "execution_count": 83,
   "id": "8e6e2992-424e-4fd1-a1a7-03e35fde30d9",
   "metadata": {},
   "outputs": [],
   "source": [
    "import json\n",
    "\n",
    "filename = 'parameters_cec_router.json'\n",
    "\n",
    "with open(filename, 'r') as file:\n",
    "\n",
    "    parameters = json.load(file)"
   ]
  },
  {
   "cell_type": "code",
   "execution_count": 37,
   "id": "26a8b65e-1ee5-4692-a068-40c231c0d6b9",
   "metadata": {},
   "outputs": [
    {
     "data": {
      "text/plain": [
       "<function __main__.<lambda>(n)>"
      ]
     },
     "execution_count": 37,
     "metadata": {},
     "output_type": "execute_result"
    }
   ],
   "source": [
    "eval(parameters['vehicles']['Bolt']['node_criteria']['depot'])"
   ]
  },
  {
   "cell_type": "code",
   "execution_count": 14,
   "id": "1517a7e9-bc73-47fd-9d68-ae17c83c573f",
   "metadata": {},
   "outputs": [],
   "source": [
    "# Assigning nodes to depots based on Voronoi cells\n",
    "deep_reload(src)\n",
    "\n",
    "center_nodes = parameters['depot_nodes']\n",
    "weight = parameters['voronoi_weight']\n",
    "\n",
    "voronoi_cells = src.router.voronoi_cells(graph, center_nodes, weight = weight)"
   ]
  },
  {
   "cell_type": "code",
   "execution_count": 50,
   "id": "0e1e0164-d261-4f9e-9e2e-beb20d5505b1",
   "metadata": {},
   "outputs": [],
   "source": [
    "# Assigning nodes to depots based on Voronoi cells\n",
    "deep_reload(src)\n",
    "\n",
    "center_nodes = parameters['depot_nodes']\n",
    "weight = parameters['voronoi_weight']\n",
    "\n",
    "graph = src.router.assign_depot(graph, center_nodes, weight = weight)"
   ]
  },
  {
   "cell_type": "code",
   "execution_count": 29,
   "id": "9cbb7376-8bb1-4d17-8d72-12094140b132",
   "metadata": {},
   "outputs": [],
   "source": [
    "# Assinging random number to each node for selection\n",
    "deep_reload(src)\n",
    "\n",
    "seed = parameters['rng_seed']\n",
    "\n",
    "graph = src.router.assign_rng(graph, seed)"
   ]
  },
  {
   "cell_type": "code",
   "execution_count": 48,
   "id": "8d4bbe4f-3b14-4995-9541-3ad37c23426a",
   "metadata": {},
   "outputs": [],
   "source": [
    "# Assinging vehicles to nodes\n",
    "deep_reload(src)\n",
    "\n",
    "vehicles = parameters['vehicles']\n",
    "\n",
    "graph = src.router.assign_vehicle(graph, vehicles)"
   ]
  },
  {
   "cell_type": "code",
   "execution_count": 69,
   "id": "dcd51957-63d3-4abd-8945-ad7e8660178a",
   "metadata": {},
   "outputs": [],
   "source": [
    "# Producing subgraphs for routing\n",
    "deep_reload(src)\n",
    "\n",
    "categories = {\n",
    "    'vehicle': list(parameters['vehicles'].keys()),\n",
    "    'depot': parameters['depot_nodes'],\n",
    "}\n",
    "\n",
    "subgraphs = src.router.produce_subgraphs(graph, categories)\n",
    "# subgraphs"
   ]
  },
  {
   "cell_type": "code",
   "execution_count": 70,
   "id": "81769e3f-b8c1-41a7-859d-189beeb8bb53",
   "metadata": {},
   "outputs": [
    {
     "data": {
      "text/plain": [
       "{('Bolt', 1000000000): <networkx.classes.graph.Graph at 0x7f8881cd0f10>,\n",
       " ('Bolt', 2000000000): <networkx.classes.graph.Graph at 0x7f8880818f50>,\n",
       " ('Lightning', 1000000000): <networkx.classes.graph.Graph at 0x7f887865c4d0>,\n",
       " ('Lightning', 2000000000): <networkx.classes.graph.Graph at 0x7f887865c510>,\n",
       " ('IONIQ 5', 1000000000): <networkx.classes.graph.Graph at 0x7f887865c590>,\n",
       " ('IONIQ 5', 2000000000): <networkx.classes.graph.Graph at 0x7f8877f15890>,\n",
       " ('Model 3', 1000000000): <networkx.classes.graph.Graph at 0x7f8876e4ba50>,\n",
       " ('Model 3', 2000000000): <networkx.classes.graph.Graph at 0x7f887784bd90>}"
      ]
     },
     "execution_count": 70,
     "metadata": {},
     "output_type": "execute_result"
    }
   ],
   "source": [
    "subgraphs"
   ]
  },
  {
   "cell_type": "code",
   "execution_count": 76,
   "id": "9c733beb-09e0-477c-88f7-97685a5b17c6",
   "metadata": {},
   "outputs": [],
   "source": [
    "# Producing adjacency matrices for routing\n",
    "deep_reload(src)\n",
    "\n",
    "weights = parameters['route_weights']\n",
    "\n",
    "adjacency = src.router.produce_adjacency(subgraphs, weights)"
   ]
  },
  {
   "cell_type": "code",
   "execution_count": 81,
   "id": "77799d31-9f86-4a7d-bf17-694a6bfce45e",
   "metadata": {},
   "outputs": [],
   "source": [
    "# Producing assignments or routing\n",
    "deep_reload(src)\n",
    "\n",
    "assignemnts = src.router.produce_assignments(subgraphs)"
   ]
  },
  {
   "cell_type": "code",
   "execution_count": null,
   "id": "158f2a4f-2aac-4694-b426-3f540e99c427",
   "metadata": {},
   "outputs": [],
   "source": [
    "# Producing bounds\n",
    "deep_reload(src)\n",
    "\n",
    "vehicles = parameters['vehicles']\n",
    "\n",
    "route_bounds, leg_bounds, stop_weights = src.router.produce_bounds(subgraphs, vehicles)"
   ]
  },
  {
   "cell_type": "code",
   "execution_count": null,
   "id": "07903ac2-979c-4fa6-8e05-e531a2a7c154",
   "metadata": {},
   "outputs": [],
   "source": []
  },
  {
   "cell_type": "code",
   "execution_count": null,
   "id": "0a29923b-c8a6-4f23-8cfe-198b2162fc78",
   "metadata": {},
   "outputs": [],
   "source": []
  },
  {
   "cell_type": "code",
   "execution_count": 51,
   "id": "abc69eb3-7381-41a3-a4d5-db0e85cab9e7",
   "metadata": {},
   "outputs": [
    {
     "data": {
      "text/plain": [
       "({'status': 1,\n",
       "  'name': '1539 S Saltair Ave',\n",
       "  'address': '1539 S Saltair Ave',\n",
       "  'city': 'Los Angeles',\n",
       "  'state': 'CA',\n",
       "  'zip': 90025,\n",
       "  'x': -118.4614221,\n",
       "  'y': 34.03997437,\n",
       "  'dcfc': 0.0,\n",
       "  'ev_network_clean': 'FLO',\n",
       "  'rng': 0.31675833970975287,\n",
       "  'depot': 2000000000,\n",
       "  'vehicle': 'Bolt'},\n",
       " {'status': 1,\n",
       "  'name': 'DC CORRIDOR CHEVRON G L2 2',\n",
       "  'address': '7110 Camino Arroyo',\n",
       "  'city': 'Gilroy',\n",
       "  'state': 'CA',\n",
       "  'zip': 95020,\n",
       "  'x': -121.552662,\n",
       "  'y': 37.007051,\n",
       "  'dcfc': 0.0,\n",
       "  'ev_network_clean': 'ChargePoint Network',\n",
       "  'rng': 0.22733602246716966,\n",
       "  'vehicle': '',\n",
       "  'depot': ''})"
      ]
     },
     "execution_count": 51,
     "metadata": {},
     "output_type": "execute_result"
    }
   ],
   "source": [
    "graph._node[221160],graph._node[183850]"
   ]
  },
  {
   "cell_type": "code",
   "execution_count": null,
   "id": "36e11949-494b-4b54-bc30-5cd3a95e1d77",
   "metadata": {},
   "outputs": [],
   "source": []
  },
  {
   "cell_type": "code",
   "execution_count": null,
   "id": "a6aebb29-2774-4b32-902d-707727bf2435",
   "metadata": {},
   "outputs": [],
   "source": []
  },
  {
   "cell_type": "code",
   "execution_count": null,
   "id": "c17131da-ab29-479b-a078-ac18bfa06fd4",
   "metadata": {},
   "outputs": [],
   "source": []
  }
 ],
 "metadata": {
  "kernelspec": {
   "display_name": "Python 3 (ipykernel)",
   "language": "python",
   "name": "python3"
  },
  "language_info": {
   "codemirror_mode": {
    "name": "ipython",
    "version": 3
   },
   "file_extension": ".py",
   "mimetype": "text/x-python",
   "name": "python",
   "nbconvert_exporter": "python",
   "pygments_lexer": "ipython3",
   "version": "3.11.5"
  }
 },
 "nbformat": 4,
 "nbformat_minor": 5
}
