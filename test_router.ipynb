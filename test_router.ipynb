{
 "cells": [
  {
   "cell_type": "code",
   "execution_count": 1,
   "id": "ae132de3-a86e-419a-aa66-2b63ca6c046d",
   "metadata": {
    "tags": []
   },
   "outputs": [],
   "source": [
    "import warnings\n",
    "warnings.filterwarnings(\"ignore\")\n",
    "\n",
    "import os\n",
    "import time\n",
    "import numpy as np\n",
    "import pandas as pd\n",
    "import geopandas as gpd\n",
    "import pickle as pkl\n",
    "import networkx as nx\n",
    "import matplotlib.pyplot as plt\n",
    "\n",
    "import src\n",
    "from src.reload import deep_reload"
   ]
  },
  {
   "cell_type": "code",
   "execution_count": 2,
   "id": "69d6885c-bea7-490b-a08c-bf322f10661d",
   "metadata": {},
   "outputs": [],
   "source": [
    "# Testing load graph from json\n",
    "deep_reload(src)\n",
    "\n",
    "filename = 'graph.json'\n",
    "\n",
    "graph = src.graph.graph_from_json(filename)"
   ]
  },
  {
   "cell_type": "code",
   "execution_count": 3,
   "id": "8e6e2992-424e-4fd1-a1a7-03e35fde30d9",
   "metadata": {},
   "outputs": [],
   "source": [
    "import json\n",
    "\n",
    "filename = 'parameters_cec_router.json'\n",
    "\n",
    "with open(filename, 'r') as file:\n",
    "\n",
    "    parameters = json.load(file)"
   ]
  },
  {
   "cell_type": "code",
   "execution_count": 8,
   "id": "2b0cd8e7-2948-4f08-af3c-b0ab970b7826",
   "metadata": {},
   "outputs": [],
   "source": [
    "# Producing routing inputs\n",
    "deep_reload(src)\n",
    "\n",
    "cases = src.router.produce_routing_inputs(graph, parameters)"
   ]
  },
  {
   "cell_type": "code",
   "execution_count": 30,
   "id": "c31158ce-b279-439f-9745-d750d87cd5ea",
   "metadata": {},
   "outputs": [],
   "source": [
    "# Producing raw routes\n",
    "deep_reload(src)\n",
    "\n",
    "vehicle = 'Model 3 (Short)'\n",
    "depot = 2000000000\n",
    "\n",
    "case = cases[(vehicle, depot)]\n",
    "\n",
    "raw_routes, success = src.router.router(\n",
    "    case,\n",
    ")"
   ]
  },
  {
   "cell_type": "code",
   "execution_count": 31,
   "id": "3cabb6a8-7b85-4611-a5d4-467d39584f32",
   "metadata": {},
   "outputs": [],
   "source": [
    "# Adding node information to routes\n",
    "deep_reload(src)\n",
    "\n",
    "routes = src.router.route_information(graph, raw_routes, parameters['route_fields'])"
   ]
  },
  {
   "cell_type": "code",
   "execution_count": 32,
   "id": "54df49b3-1ddf-480d-8261-e8afb0940c3f",
   "metadata": {},
   "outputs": [
    {
     "data": {
      "text/plain": [
       "[[2000000000, 113002, 2000000000],\n",
       " [2000000000, 250837, 2000000000],\n",
       " [2000000000, 112931, 233384, 2000000000],\n",
       " [2000000000, 113516, 229092, 2000000000],\n",
       " [2000000000, 102006, 222803, 2000000000]]"
      ]
     },
     "execution_count": 32,
     "metadata": {},
     "output_type": "execute_result"
    }
   ],
   "source": [
    "raw_routes"
   ]
  },
  {
   "cell_type": "code",
   "execution_count": null,
   "id": "84ba5382-9014-4e30-a244-3370123c38b5",
   "metadata": {},
   "outputs": [],
   "source": []
  }
 ],
 "metadata": {
  "kernelspec": {
   "display_name": "Python 3 (ipykernel)",
   "language": "python",
   "name": "python3"
  },
  "language_info": {
   "codemirror_mode": {
    "name": "ipython",
    "version": 3
   },
   "file_extension": ".py",
   "mimetype": "text/x-python",
   "name": "python",
   "nbconvert_exporter": "python",
   "pygments_lexer": "ipython3",
   "version": "3.11.5"
  }
 },
 "nbformat": 4,
 "nbformat_minor": 5
}
