{
 "cells": [
  {
   "cell_type": "code",
   "execution_count": 1,
   "id": "ae132de3-a86e-419a-aa66-2b63ca6c046d",
   "metadata": {
    "tags": []
   },
   "outputs": [],
   "source": [
    "import warnings\n",
    "warnings.filterwarnings(\"ignore\")\n",
    "\n",
    "import os\n",
    "import time\n",
    "import numpy as np\n",
    "import pandas as pd\n",
    "import geopandas as gpd\n",
    "import pickle as pkl\n",
    "import networkx as nx\n",
    "import matplotlib.pyplot as plt\n",
    "\n",
    "import src\n",
    "from src.reload import deep_reload"
   ]
  },
  {
   "cell_type": "code",
   "execution_count": 2,
   "id": "69d6885c-bea7-490b-a08c-bf322f10661d",
   "metadata": {},
   "outputs": [],
   "source": [
    "# Testing load graph from json\n",
    "deep_reload(src)\n",
    "\n",
    "filename = 'graph.json'\n",
    "\n",
    "graph = src.graph.graph_from_json(filename)"
   ]
  },
  {
   "cell_type": "code",
   "execution_count": 19,
   "id": "c53c02ad-f81c-407d-8ca5-81863dc40138",
   "metadata": {},
   "outputs": [
    {
     "data": {
      "text/plain": [
       "True"
      ]
     },
     "execution_count": 19,
     "metadata": {},
     "output_type": "execute_result"
    }
   ],
   "source": [
    "n = graph._node[1000000000]\n",
    "\n",
    "fun = lambda n: (n['rng'] >= .34) & (n['rng'] < .67)|(n['ev_network_clean']=='Depot')\n",
    "fun(n)"
   ]
  },
  {
   "cell_type": "code",
   "execution_count": 22,
   "id": "fd779a26-ad03-4e6f-9048-4dbe1c7aaea2",
   "metadata": {},
   "outputs": [
    {
     "data": {
      "text/plain": [
       "{'status': 1,\n",
       " 'name': 'UC Davis Depot',\n",
       " 'address': '1590 Tilia St.',\n",
       " 'city': 'Davis',\n",
       " 'state': 'CA',\n",
       " 'zip': 95616,\n",
       " 'x': -121.7709234,\n",
       " 'y': 38.54165851,\n",
       " 'dcfc': 0.0,\n",
       " 'ev_network_clean': 'Depot',\n",
       " 'depot': 1000000000,\n",
       " 'rng': 0.7621841426621033,\n",
       " 'vehicle': ['Bolt', 'Lightning', 'IONIQ 5', 'Model 3']}"
      ]
     },
     "execution_count": 22,
     "metadata": {},
     "output_type": "execute_result"
    }
   ],
   "source": [
    "n"
   ]
  },
  {
   "cell_type": "code",
   "execution_count": 3,
   "id": "8e6e2992-424e-4fd1-a1a7-03e35fde30d9",
   "metadata": {},
   "outputs": [],
   "source": [
    "import json\n",
    "\n",
    "filename = 'parameters_cec_router.json'\n",
    "\n",
    "with open(filename, 'r') as file:\n",
    "\n",
    "    parameters = json.load(file)"
   ]
  },
  {
   "cell_type": "code",
   "execution_count": 5,
   "id": "0e1e0164-d261-4f9e-9e2e-beb20d5505b1",
   "metadata": {},
   "outputs": [],
   "source": [
    "# Assigning nodes to depots based on Voronoi cells\n",
    "deep_reload(src)\n",
    "\n",
    "center_nodes = parameters['depot_nodes']\n",
    "weight = parameters['voronoi_weight']\n",
    "\n",
    "graph = src.router.assign_depot(graph, center_nodes, weight = weight)"
   ]
  },
  {
   "cell_type": "code",
   "execution_count": 6,
   "id": "9cbb7376-8bb1-4d17-8d72-12094140b132",
   "metadata": {},
   "outputs": [],
   "source": [
    "# Assinging random number to each node for selection\n",
    "deep_reload(src)\n",
    "\n",
    "seed = parameters['rng_seed']\n",
    "\n",
    "graph = src.router.assign_rng(graph, seed)"
   ]
  },
  {
   "cell_type": "code",
   "execution_count": 21,
   "id": "8d4bbe4f-3b14-4995-9541-3ad37c23426a",
   "metadata": {},
   "outputs": [],
   "source": [
    "# Assinging vehicles to nodes\n",
    "deep_reload(src)\n",
    "\n",
    "vehicles = parameters['vehicles']\n",
    "\n",
    "graph = src.router.assign_vehicle(graph, vehicles)"
   ]
  },
  {
   "cell_type": "code",
   "execution_count": 28,
   "id": "dcd51957-63d3-4abd-8945-ad7e8660178a",
   "metadata": {},
   "outputs": [],
   "source": [
    "# Producing subgraphs for routing\n",
    "deep_reload(src)\n",
    "\n",
    "categories = {\n",
    "    'vehicle': list(parameters['vehicles'].keys()),\n",
    "    'depot': parameters['depot_nodes'],\n",
    "}\n",
    "\n",
    "subgraphs = src.router.produce_subgraphs(graph, categories)\n",
    "# subgraphs"
   ]
  },
  {
   "cell_type": "code",
   "execution_count": 29,
   "id": "81769e3f-b8c1-41a7-859d-189beeb8bb53",
   "metadata": {},
   "outputs": [
    {
     "data": {
      "text/plain": [
       "{('Bolt', 1000000000): <networkx.classes.graph.Graph at 0x7f5094040310>,\n",
       " ('Bolt', 2000000000): <networkx.classes.graph.Graph at 0x7f50940403d0>,\n",
       " ('Lightning', 1000000000): <networkx.classes.graph.Graph at 0x7f508c4b7d10>,\n",
       " ('Lightning', 2000000000): <networkx.classes.graph.Graph at 0x7f508c4cee90>,\n",
       " ('IONIQ 5', 1000000000): <networkx.classes.graph.Graph at 0x7f508bdca390>,\n",
       " ('IONIQ 5', 2000000000): <networkx.classes.graph.Graph at 0x7f508b60fb10>,\n",
       " ('Model 3', 1000000000): <networkx.classes.graph.Graph at 0x7f508c4b7cd0>,\n",
       " ('Model 3', 2000000000): <networkx.classes.graph.Graph at 0x7f5089e14590>}"
      ]
     },
     "execution_count": 29,
     "metadata": {},
     "output_type": "execute_result"
    }
   ],
   "source": [
    "subgraphs"
   ]
  },
  {
   "cell_type": "code",
   "execution_count": 30,
   "id": "9c733beb-09e0-477c-88f7-97685a5b17c6",
   "metadata": {},
   "outputs": [],
   "source": [
    "# Producing adjacency matrices for routing\n",
    "deep_reload(src)\n",
    "\n",
    "weights = parameters['route_weights']\n",
    "\n",
    "adjacency = src.router.produce_adjacency(subgraphs, weights)"
   ]
  },
  {
   "cell_type": "code",
   "execution_count": 31,
   "id": "77799d31-9f86-4a7d-bf17-694a6bfce45e",
   "metadata": {},
   "outputs": [],
   "source": [
    "# Producing assignments or routing\n",
    "deep_reload(src)\n",
    "\n",
    "assignments = src.router.produce_assignments(subgraphs)"
   ]
  },
  {
   "cell_type": "code",
   "execution_count": 60,
   "id": "158f2a4f-2aac-4694-b426-3f540e99c427",
   "metadata": {},
   "outputs": [],
   "source": [
    "# Producing bounds\n",
    "deep_reload(src)\n",
    "\n",
    "vehicles = parameters['vehicles']\n",
    "weights = parameters['route_weights']\n",
    "\n",
    "route_bounds, leg_bounds, stop_weights = src.router.produce_bounds(\n",
    "    subgraphs, vehicles, weights)"
   ]
  },
  {
   "cell_type": "code",
   "execution_count": 143,
   "id": "e1074bbc-905e-48e2-a460-96aa96593a79",
   "metadata": {},
   "outputs": [],
   "source": [
    "# Producing un-optimized routes\n",
    "deep_reload(src)\n",
    "\n",
    "combination = ('Bolt', 1000000000)\n",
    "case_index = 1\n",
    "route_bounds_case = [rb[case_index] for rb in route_bounds[combination]]\n",
    "leg_bounds_case = [rb[case_index] for rb in leg_bounds[combination]]\n",
    "stop_weights_case = [rb[case_index] for rb in stop_weights[combination]]\n",
    "\n",
    "routes, success = src.router.clarke_wright(\n",
    "    adjacency[combination],\n",
    "    assignments[combination]['node_to_idx'][combination[1]],\n",
    "    route_bounds_case,\n",
    "    leg_bounds_case,\n",
    "    stop_weights_case,\n",
    ")"
   ]
  },
  {
   "cell_type": "code",
   "execution_count": 144,
   "id": "36e11949-494b-4b54-bc30-5cd3a95e1d77",
   "metadata": {},
   "outputs": [
    {
     "data": {
      "text/plain": [
       "[[213, 0, 213],\n",
       " [213, 1, 106, 31, 213],\n",
       " [213, 3, 25, 67, 142, 115, 174, 213],\n",
       " [213, 4, 27, 64, 10, 147, 77, 127, 112, 213],\n",
       " [213, 5, 41, 117, 151, 110, 213],\n",
       " [213, 7, 26, 45, 109, 22, 89, 213],\n",
       " [213, 9, 105, 111, 198, 185, 170, 213],\n",
       " [213, 11, 113, 44, 102, 175, 71, 98, 119, 213],\n",
       " [213, 12, 213],\n",
       " [213, 14, 128, 8, 210, 159, 125, 213]]"
      ]
     },
     "execution_count": 144,
     "metadata": {},
     "output_type": "execute_result"
    }
   ],
   "source": [
    "routes[:10]"
   ]
  },
  {
   "cell_type": "code",
   "execution_count": 147,
   "id": "ae19c232-41f2-45b1-b03c-439ac210c8c3",
   "metadata": {},
   "outputs": [
    {
     "data": {
      "text/plain": [
       "(388.9, 5.163081422050176, [True, True])"
      ]
     },
     "execution_count": 147,
     "metadata": {},
     "output_type": "execute_result"
    }
   ],
   "source": [
    "deep_reload(src)\n",
    "\n",
    "weights, validity = src.router.evaluate_route(\n",
    "    adjacency[combination],\n",
    "    routes[1],\n",
    "    route_bounds_case,\n",
    "    leg_bounds_case,\n",
    "    stop_weights_case,\n",
    ")\n",
    "\n",
    "weights[0]/1000, weights[1]/3600, validity"
   ]
  },
  {
   "cell_type": "code",
   "execution_count": 151,
   "id": "995fb3cf-fe2d-4bdd-aa2f-7f92c2120eb1",
   "metadata": {},
   "outputs": [
    {
     "data": {
      "text/plain": [
       "([[324460.0],\n",
       "  [388900.0],\n",
       "  [380210.0],\n",
       "  [367260.0],\n",
       "  [388960.0],\n",
       "  [396320.0],\n",
       "  [248870.0],\n",
       "  [387510.0],\n",
       "  [0.0],\n",
       "  [400000.0],\n",
       "  [422980.0],\n",
       "  [259610.0],\n",
       "  [397170.0],\n",
       "  [556020.0],\n",
       "  [396820.0],\n",
       "  [390200.0],\n",
       "  [399990.0],\n",
       "  [399690.0],\n",
       "  [179650.0],\n",
       "  [464740.0],\n",
       "  [322410.0],\n",
       "  [395400.0],\n",
       "  [385100.0],\n",
       "  [579840.0],\n",
       "  [398890.0],\n",
       "  [390910.0],\n",
       "  [574300.0],\n",
       "  [384830.0],\n",
       "  [433460.0],\n",
       "  [396810.0],\n",
       "  [370280.0],\n",
       "  [398430.0],\n",
       "  [354840.0],\n",
       "  [580680.0],\n",
       "  [389450.0],\n",
       "  [395690.0],\n",
       "  [572620.0],\n",
       "  [511660.0],\n",
       "  [398260.0],\n",
       "  [580840.0],\n",
       "  [575260.0],\n",
       "  [398450.0],\n",
       "  [384410.0],\n",
       "  [0.0],\n",
       "  [322510.0],\n",
       "  [0.0],\n",
       "  [384270.0],\n",
       "  [89660.0],\n",
       "  [523180.0],\n",
       "  [511180.0],\n",
       "  [391360.0],\n",
       "  [0.0],\n",
       "  [587220.0],\n",
       "  [0.0],\n",
       "  [394620.0],\n",
       "  [506920.0],\n",
       "  [93900.0],\n",
       "  [592460.0],\n",
       "  [351420.0],\n",
       "  [0.0],\n",
       "  [359890.0],\n",
       "  [29860.0],\n",
       "  [390500.0],\n",
       "  [396130.0],\n",
       "  [412700.0],\n",
       "  [522040.0],\n",
       "  [0.0],\n",
       "  [0.0],\n",
       "  [417000.0],\n",
       "  [0.0]],\n",
       " [[True],\n",
       "  [True],\n",
       "  [True],\n",
       "  [True],\n",
       "  [True],\n",
       "  [True],\n",
       "  [True],\n",
       "  [True],\n",
       "  [True],\n",
       "  [True],\n",
       "  [False],\n",
       "  [True],\n",
       "  [True],\n",
       "  [False],\n",
       "  [True],\n",
       "  [True],\n",
       "  [True],\n",
       "  [True],\n",
       "  [True],\n",
       "  [False],\n",
       "  [True],\n",
       "  [True],\n",
       "  [True],\n",
       "  [False],\n",
       "  [True],\n",
       "  [True],\n",
       "  [False],\n",
       "  [True],\n",
       "  [False],\n",
       "  [True],\n",
       "  [True],\n",
       "  [True],\n",
       "  [True],\n",
       "  [False],\n",
       "  [True],\n",
       "  [True],\n",
       "  [False],\n",
       "  [False],\n",
       "  [True],\n",
       "  [False],\n",
       "  [False],\n",
       "  [True],\n",
       "  [True],\n",
       "  [True],\n",
       "  [True],\n",
       "  [True],\n",
       "  [True],\n",
       "  [True],\n",
       "  [False],\n",
       "  [False],\n",
       "  [True],\n",
       "  [True],\n",
       "  [False],\n",
       "  [True],\n",
       "  [True],\n",
       "  [False],\n",
       "  [True],\n",
       "  [False],\n",
       "  [True],\n",
       "  [True],\n",
       "  [True],\n",
       "  [True],\n",
       "  [True],\n",
       "  [True],\n",
       "  [False],\n",
       "  [False],\n",
       "  [True],\n",
       "  [True],\n",
       "  [False],\n",
       "  [True]])"
      ]
     },
     "execution_count": 151,
     "metadata": {},
     "output_type": "execute_result"
    }
   ],
   "source": [
    "deep_reload(src)\n",
    "\n",
    "weights, validity = src.router.evaluate_routes(\n",
    "    adjacency[combination],\n",
    "    routes,\n",
    "    route_bounds_case,\n",
    "    leg_bounds_case,\n",
    "    stop_weights_case,\n",
    ")\n",
    "\n",
    "weights, validity"
   ]
  },
  {
   "cell_type": "code",
   "execution_count": 120,
   "id": "cf8c24bc-0011-4f34-8c29-88384697315a",
   "metadata": {},
   "outputs": [
    {
     "data": {
      "text/plain": [
       "([[20000.0, 300000.0], [0, 28800]], [[0, 400000.0], [0, 28800]])"
      ]
     },
     "execution_count": 120,
     "metadata": {},
     "output_type": "execute_result"
    }
   ],
   "source": [
    "leg_bounds_case, route_bounds_case"
   ]
  },
  {
   "cell_type": "code",
   "execution_count": 55,
   "id": "16388cbb-16fd-4770-9d26-c135d262d6df",
   "metadata": {},
   "outputs": [
    {
     "data": {
      "text/plain": [
       "{('Bolt', 1000000000): [[[0, 400000.0], [0, 400000.0]],\n",
       "  [[0, 10800], [0, 28800]]],\n",
       " ('Bolt', 2000000000): [[[0, 400000.0], [0, 400000.0]],\n",
       "  [[0, 10800], [0, 28800]]],\n",
       " ('Lightning', 1000000000): [[[0, 400000.0], [0, 400000.0]],\n",
       "  [[0, 10800], [0, 28800]]],\n",
       " ('Lightning', 2000000000): [[[0, 400000.0], [0, 400000.0]],\n",
       "  [[0, 10800], [0, 28800]]],\n",
       " ('IONIQ 5', 1000000000): [[[0, 350000.0], [0, 350000.0]],\n",
       "  [[0, 10800], [0, 28800]]],\n",
       " ('IONIQ 5', 2000000000): [[[0, 350000.0], [0, 350000.0]],\n",
       "  [[0, 10800], [0, 28800]]],\n",
       " ('Model 3', 1000000000): [[[0, 500000.0], [0, 500000.0]],\n",
       "  [[0, 10800], [0, 28800]]],\n",
       " ('Model 3', 2000000000): [[[0, 500000.0], [0, 500000.0]],\n",
       "  [[0, 10800], [0, 28800]]]}"
      ]
     },
     "execution_count": 55,
     "metadata": {},
     "output_type": "execute_result"
    }
   ],
   "source": [
    "route_bounds"
   ]
  },
  {
   "cell_type": "code",
   "execution_count": null,
   "id": "c17131da-ab29-479b-a078-ac18bfa06fd4",
   "metadata": {},
   "outputs": [],
   "source": []
  }
 ],
 "metadata": {
  "kernelspec": {
   "display_name": "Python 3 (ipykernel)",
   "language": "python",
   "name": "python3"
  },
  "language_info": {
   "codemirror_mode": {
    "name": "ipython",
    "version": 3
   },
   "file_extension": ".py",
   "mimetype": "text/x-python",
   "name": "python",
   "nbconvert_exporter": "python",
   "pygments_lexer": "ipython3",
   "version": "3.11.5"
  }
 },
 "nbformat": 4,
 "nbformat_minor": 5
}
